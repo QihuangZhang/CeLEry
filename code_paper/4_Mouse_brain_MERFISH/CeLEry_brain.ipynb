{
 "cells": [
  {
   "cell_type": "code",
   "execution_count": 1,
   "metadata": {},
   "outputs": [
    {
     "name": "stderr",
     "output_type": "stream",
     "text": [
      "/usr/local/lib/python3.8/site-packages/tqdm/auto.py:22: TqdmWarning: IProgress not found. Please update jupyter and ipywidgets. See https://ipywidgets.readthedocs.io/en/stable/user_install.html\n",
      "  from .autonotebook import tqdm as notebook_tqdm\n"
     ]
    }
   ],
   "source": [
    "import CeLEry as cel\n",
    "\n",
    "import os,csv,re\n",
    "import pandas as pd\n",
    "import numpy as np\n",
    "import scanpy as sc\n",
    "import math\n",
    "from skimage import io, color\n",
    "\n",
    "from scipy.sparse import issparse\n",
    "import random, torch\n",
    "import warnings\n",
    "warnings.filterwarnings(\"ignore\")\n",
    "import pickle\n",
    "from sklearn.model_selection import train_test_split\n",
    "from anndata import AnnData, read_h5ad\n",
    "\n",
    "import json"
   ]
  },
  {
   "cell_type": "code",
   "execution_count": 2,
   "metadata": {},
   "outputs": [],
   "source": [
    "data_merfish_raw = pd.read_csv(\"data/datasets_mouse_brain_map_BrainReceptorShowcase_Slice1_Replicate1_cell_by_gene_S1R1.csv\", index_col=0)   \n",
    "meta_data = pd.read_csv(\"data/datasets_mouse_brain_map_BrainReceptorShowcase_Slice1_Replicate1_cell_metadata_S1R1.csv\", index_col=0)\n",
    "\n",
    "data_merfish = AnnData(data_merfish_raw)\n",
    "\n",
    "data_merfish.obs['x_cord'] = meta_data['center_x'].tolist()\n",
    "data_merfish.obs['y_cord'] = meta_data['center_y'].tolist()\n",
    "data_merfish_raw = data_merfish.copy()\n",
    "\n",
    "sc.pp.filter_cells(data_merfish, min_counts=500)\n",
    "sc.pp.filter_cells(data_merfish, min_genes=100)\n",
    "\n",
    "sc.pp.neighbors(data_merfish, n_neighbors=15, use_rep='X', random_state=1)\n",
    "sc.tl.louvain(data_merfish, 0.4, random_state=1)"
   ]
  },
  {
   "cell_type": "code",
   "execution_count": 3,
   "metadata": {},
   "outputs": [],
   "source": [
    "Qdata = data_merfish[data_merfish.obs['x_cord'] <= np.quantile(data_merfish.obs['x_cord'], 0.5)]\n",
    "Rdata = data_merfish[data_merfish.obs['x_cord'] > np.quantile(data_merfish.obs['x_cord'], 0.5)]"
   ]
  },
  {
   "cell_type": "code",
   "execution_count": 4,
   "metadata": {},
   "outputs": [],
   "source": [
    "cel.get_zscore(Qdata)\n",
    "cel.get_zscore(Rdata)"
   ]
  },
  {
   "cell_type": "code",
   "execution_count": 5,
   "metadata": {},
   "outputs": [
    {
     "name": "stderr",
     "output_type": "stream",
     "text": [
      "100%|██████████| 2293/2293 [00:08<00:00, 284.61it/s]\n"
     ]
    },
    {
     "name": "stdout",
     "output_type": "stream",
     "text": [
      "Epoch:1, Loss:75.2848\n"
     ]
    },
    {
     "name": "stderr",
     "output_type": "stream",
     "text": [
      "100%|██████████| 2293/2293 [00:07<00:00, 311.46it/s]"
     ]
    },
    {
     "name": "stdout",
     "output_type": "stream",
     "text": [
      "Epoch:2, Loss:35.4318\n",
      "Folder already exists\n"
     ]
    },
    {
     "name": "stderr",
     "output_type": "stream",
     "text": [
      "\n"
     ]
    }
   ],
   "source": [
    "## right brain as training, left brain as testing\n",
    "model_train = cel.Fit_cord (data_train = Rdata, hidden_dims = [100, 50, 20], num_epochs_max = 2000, path = \"output/brain\", filename = \"brain_left\")"
   ]
  },
  {
   "cell_type": "code",
   "execution_count": 9,
   "metadata": {},
   "outputs": [],
   "source": [
    "pred_cord = cel.Predict_cord (data_test = Qdata, path = \"output/brain\", filename = \"brain_left\")\n",
    "pred_cord[:,0] = 1-pred_cord[:,0]\n",
    "\n",
    "data_train = Qdata.copy()\n",
    "traindata = (data_train.X.A if issparse(data_train.X) else data_train.X)\n",
    "tdatax = np.expand_dims(traindata, axis = 0)\n",
    "tdata_rs = np.swapaxes(tdatax, 1, 2)\n",
    "test_cord = cel.wrap_gene_location(tdata_rs, data_train.obs[['x_cord', 'y_cord']])\n",
    "\n",
    "pred_cord_transformx = pred_cord[:,0]*(test_cord.xmax-test_cord.xmin) + test_cord.xmin\n",
    "pred_cord_transformy = pred_cord[:,1]*(test_cord.ymax-test_cord.ymin) + test_cord.ymin\n",
    "pred_cord_transform = np.array([pred_cord_transformx, pred_cord_transformy]).T\n",
    "pred_cord_transform = pd.DataFrame(pred_cord_transform)\n",
    "pred_cord_transform.index = Qdata.obs.index\n",
    "pred_cord_transform.columns = ['x', 'y']\n",
    "\n",
    "pred_cord_transform.to_csv(\"output/brain/celery_brain_left.csv\")"
   ]
  },
  {
   "cell_type": "code",
   "execution_count": 51,
   "metadata": {},
   "outputs": [],
   "source": [
    "## left brain as training, right brain as testing\n",
    "model_train = cel.Fit_cord (data_train = Qdata, hidden_dims = [100, 50, 20], num_epochs_max = 2000, path = \"output/brain\", filename = \"brain_right\")"
   ]
  },
  {
   "cell_type": "code",
   "execution_count": 57,
   "metadata": {},
   "outputs": [],
   "source": [
    "pred_cord = cel.Predict_cord (data_test = Qdata, path = \"output/brain\", filename = \"brain_right\")\n",
    "pred_cord[:,0] = 1-pred_cord[:,0]\n",
    "\n",
    "data_train = Rdata.copy()\n",
    "traindata = (data_train.X.A if issparse(data_train.X) else data_train.X)\n",
    "tdatax = np.expand_dims(traindata, axis = 0)\n",
    "tdata_rs = np.swapaxes(tdatax, 1, 2)\n",
    "test_cord = cel.wrap_gene_location(tdata_rs, data_train.obs[['x_cord', 'y_cord']])\n",
    "\n",
    "pred_cord_transformx = pred_cord[:,0]*(test_cord.xmax-test_cord.xmin) + test_cord.xmin\n",
    "pred_cord_transformy = pred_cord[:,1]*(test_cord.ymax-test_cord.ymin) + test_cord.ymin\n",
    "pred_cord_transform = np.array([pred_cord_transformx, pred_cord_transformy]).T\n",
    "pred_cord_transform = pd.DataFrame(pred_cord_transform)\n",
    "pred_cord_transform.index = Rdata.obs.index\n",
    "pred_cord_transform.columns = ['x', 'y']\n",
    "\n",
    "pred_cord_transform.to_csv(\"output/brain/celery_brain_right.csv\")"
   ]
  },
  {
   "cell_type": "code",
   "execution_count": null,
   "metadata": {},
   "outputs": [],
   "source": []
  }
 ],
 "metadata": {
  "kernelspec": {
   "display_name": "Python 3.8.15 64-bit",
   "language": "python",
   "name": "python3"
  },
  "language_info": {
   "codemirror_mode": {
    "name": "ipython",
    "version": 3
   },
   "file_extension": ".py",
   "mimetype": "text/x-python",
   "name": "python",
   "nbconvert_exporter": "python",
   "pygments_lexer": "ipython3",
   "version": "3.8.15 (default, Oct 11 2022, 21:52:37) \n[Clang 14.0.0 (clang-1400.0.29.102)]"
  },
  "orig_nbformat": 4,
  "vscode": {
   "interpreter": {
    "hash": "0adcc2737ebf6a4a119f135174df96668767fca1ef1112612db5ecadf2b6d608"
   }
  }
 },
 "nbformat": 4,
 "nbformat_minor": 2
}

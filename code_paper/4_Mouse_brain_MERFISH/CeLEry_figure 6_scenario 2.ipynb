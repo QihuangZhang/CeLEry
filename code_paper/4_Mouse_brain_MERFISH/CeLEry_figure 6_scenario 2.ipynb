{
 "cells": [
  {
   "cell_type": "code",
   "execution_count": 19,
   "metadata": {},
   "outputs": [],
   "source": [
    "import CeLEry as cel\n",
    "\n",
    "import os\n",
    "import pandas as pd\n",
    "import numpy as np\n",
    "import scanpy as sc\n",
    "import scipy\n",
    "\n",
    "from scipy.sparse import issparse\n",
    "from anndata import concat\n",
    "import warnings\n",
    "warnings.filterwarnings(\"ignore\")\n",
    "from anndata import AnnData\n",
    "from tqdm import tqdm"
   ]
  },
  {
   "cell_type": "code",
   "execution_count": 2,
   "metadata": {},
   "outputs": [
    {
     "name": "stderr",
     "output_type": "stream",
     "text": [
      "100%|██████████| 2/2 [00:00<00:00,  4.81it/s]\n"
     ]
    }
   ],
   "source": [
    "d11 = pd.read_csv(\"data/mouse_brain/datasets_mouse_brain_map_BrainReceptorShowcase_Slice1_Replicate1_cell_by_gene_S1R1.csv\", index_col=0)   \n",
    "d11_meta = pd.read_csv(\"data/mouse_brain/datasets_mouse_brain_map_BrainReceptorShowcase_Slice1_Replicate1_cell_metadata_S1R1.csv\", index_col=0)\n",
    "d12 = pd.read_csv(\"data/mouse_brain/datasets_mouse_brain_map_BrainReceptorShowcase_Slice1_Replicate2_cell_by_gene_S1R2.csv\", index_col=0)   \n",
    "d12_meta = pd.read_csv(\"data/mouse_brain/datasets_mouse_brain_map_BrainReceptorShowcase_Slice1_Replicate2_cell_metadata_S1R2.csv\", index_col=0)\n",
    "\n",
    "d11 = AnnData(d11)\n",
    "d11.obs['x_cord'] = d11_meta['center_x'].tolist()\n",
    "d11.obs['y_cord'] = d11_meta['center_y'].tolist()\n",
    "d11.obs['source'] = \"S1R1\"\n",
    "\n",
    "d12 = AnnData(d12)\n",
    "d12.obs['x_cord'] = d12_meta['center_x'].tolist()\n",
    "d12.obs['y_cord'] = d12_meta['center_y'].tolist()\n",
    "d12.obs['source'] = \"S1R2\"\n",
    "\n",
    "data = [d11, d12]\n",
    "for d in tqdm(data):\n",
    "    sc.pp.filter_cells(d, min_counts=500)\n",
    "    sc.pp.filter_cells(d, min_genes=100)\n",
    "\n",
    "d_tot = concat([d11, d12])\n",
    "sc.pp.neighbors(d_tot, n_neighbors = 15, use_rep=\"X\")\n",
    "sc.tl.louvain(d_tot, 0.4, random_state=1)\n",
    "\n",
    "d11 = d_tot[d_tot.obs['source'] == \"S1R1\"].copy()\n",
    "d12 = d_tot[d_tot.obs['source'] == \"S1R2\"].copy()"
   ]
  },
  {
   "cell_type": "markdown",
   "metadata": {},
   "source": [
    "In this scenario, We choose the right half of replicates S1R2 as training set, and predict locations of S1R1 cells.\n",
    "\n",
    "The cutting line for separating right half of S1R2 is x*6/11 + 2436.36 - y = 0. It is mannually defined, a rough separation."
   ]
  },
  {
   "cell_type": "code",
   "execution_count": 3,
   "metadata": {},
   "outputs": [],
   "source": [
    "d12_right = d12[d12.obs['x_cord']*6/11 + 2436.36 - d12.obs['y_cord'] > 0].copy()\n",
    "\n",
    "d11_left = d11[d11.obs['x_cord'] < np.quantile(d11.obs['x_cord'], 0.5)].copy()\n",
    "d11_right = d11[d11.obs['x_cord'] >= np.quantile(d11.obs['x_cord'], 0.5)].copy()"
   ]
  },
  {
   "cell_type": "code",
   "execution_count": null,
   "metadata": {},
   "outputs": [],
   "source": [
    "Rdata = d12_right.copy()\n",
    "\n",
    "cel.get_zscore(Rdata)\n",
    "Rdata.obs = Rdata.obs[['x_cord', 'y_cord']]\n",
    "model_train = cel.Fit_cord (data_train = Rdata, hidden_dims = [150, 100, 70, 50, 20], num_epochs_max = 500, path = \"output/fig6\", filename = \"fig6_2\")"
   ]
  },
  {
   "cell_type": "code",
   "execution_count": 12,
   "metadata": {},
   "outputs": [],
   "source": [
    "def pred_transform(pred_cord):\n",
    "    data_train = Rdata.copy()\n",
    "    traindata = (data_train.X.A if issparse(data_train.X) else data_train.X)\n",
    "    tdatax = np.expand_dims(traindata, axis = 0)\n",
    "    tdata_rs = np.swapaxes(tdatax, 1, 2)\n",
    "    test_cord = cel.wrap_gene_location(tdata_rs, Rdata.obs[['x_cord', 'y_cord']])\n",
    "\n",
    "    pred_cord_transformx = pred_cord[:,0]*(test_cord.xmax-test_cord.xmin) + test_cord.xmin\n",
    "    pred_cord_transformy = pred_cord[:,1]*(test_cord.ymax-test_cord.ymin) + test_cord.ymin\n",
    "    pred_cord_transform = np.array([pred_cord_transformx, pred_cord_transformy]).T\n",
    "    return pred_cord_transform"
   ]
  },
  {
   "cell_type": "code",
   "execution_count": null,
   "metadata": {},
   "outputs": [],
   "source": [
    "cel.get_zscore(d11_left)\n",
    "cel.get_zscore(d11_right)\n",
    "\n",
    "pred_cord_left = cel.Predict_cord (data_test = d11_left, path = \"output/fig6\", filename = \"fig6_2\")\n",
    "pred_cord_transform_left = pred_transform(pred_cord_left)\n",
    "\n",
    "pred_cord_right = cel.Predict_cord (data_test = d11_right, path = \"output/fig6\", filename = \"fig6_2\")\n",
    "pred_cord_transform_right = pred_transform(pred_cord_right)"
   ]
  },
  {
   "cell_type": "code",
   "execution_count": null,
   "metadata": {},
   "outputs": [],
   "source": [
    "os.makedirs(\"output/fig6\", exist_ok=True)\n",
    "np.save(\"output/fig6/fig6_2_left_celery.npy\", pred_cord_transform_left)\n",
    "np.save(\"output/fig6/fig6_2_right_celery.npy\", pred_cord_transform_right)"
   ]
  },
  {
   "cell_type": "markdown",
   "metadata": {},
   "source": [
    "Till now, it is fine to compare the correlation between true and predicted pairwise distance."
   ]
  },
  {
   "cell_type": "code",
   "execution_count": null,
   "metadata": {},
   "outputs": [],
   "source": [
    "d11_left.obs['x_celery'] = pred_cord_transform_left[:,0]\n",
    "d11_left.obs['y_celery'] = pred_cord_transform_left[:,1]\n",
    "\n",
    "d11_right.obs['x_celery'] = pred_cord_transform_right[:,0]\n",
    "d11_right.obs['y_celery'] = pred_cord_transform_right[:,1]\n",
    "\n",
    "def distCompute(data_merfish):\n",
    "    celery_dist = []\n",
    "    true_dist = []\n",
    "    Qdata_loc = np.array(data_merfish.obs[['x_cord', 'y_cord']])\n",
    "    celery_pred = np.array(data_merfish.obs[['x_celery', 'y_celery']])\n",
    "\n",
    "    for i in tqdm(range(Qdata_loc.shape[0])):\n",
    "        celery_i = celery_pred[i, :]\n",
    "        celery_points = celery_pred[i+1:, :]\n",
    "        celery_dist.extend(np.sqrt(np.sum((celery_points - celery_i)**2, axis=1)))\n",
    "\n",
    "\n",
    "        true_i = Qdata_loc[i, :]\n",
    "        true_points = Qdata_loc[i+1:, :]\n",
    "        true_dist.extend(np.sqrt(np.sum((true_points - true_i)**2, axis=1)))\n",
    "    return celery_dist, true_dist\n",
    "\n",
    "celery_dist, true_dist = distCompute(d11_left)\n",
    "celery_dist_r, true_dist_r = distCompute(d11_right)\n",
    "\n",
    "celery_dist.extend(celery_dist_r)\n",
    "true_dist.extend(true_dist_r)\n",
    "\n",
    "print(scipy.stats.pearsonr(true_dist, celery_dist))"
   ]
  },
  {
   "cell_type": "markdown",
   "metadata": {},
   "source": [
    "However, the predicted locations of testing set is in the domain of training set locations. If we would like to compare the Euclidean distance between true locations and predicted locations, mannually matching is required to first roughly align the domain and rotation between training set and testing set. This step is imperfect, but it can help us compare the performance of different methods within a single scenario."
   ]
  },
  {
   "cell_type": "code",
   "execution_count": 21,
   "metadata": {},
   "outputs": [],
   "source": [
    "## Based on our separation line, project the predicted locations of left brain to the left side.\n",
    "\n",
    "A = 6/11\n",
    "C = 2436.36\n",
    "B = -1\n",
    "def pointTrans(celery_pred, left, xname, yname):\n",
    "    x = celery_pred[:, 0]\n",
    "    y = celery_pred[:, 1]\n",
    "    x1 = x - 2*A*((A*x + B*y + C)/(A*A + B*B))\n",
    "    y1 = y - 2*B*((A*x + B*y + C)/(A*A + B*B))\n",
    "    left.obs[xname] = x1\n",
    "    left.obs[yname] = y1\n",
    "    # return x1, y1\n",
    "\n",
    "pointTrans(pred_cord_transform_left, d11_left, \"x_celery\", \"y_celery\")\n",
    "Qdata = concat([d11_left, d11_right])"
   ]
  },
  {
   "cell_type": "code",
   "execution_count": 22,
   "metadata": {},
   "outputs": [],
   "source": [
    "## Mannually matching\n",
    "\n",
    "def rotateMatrix(a):\n",
    "    return np.array([[np.cos(a), -np.sin(a)], [np.sin(a), np.cos(a)]])\n",
    "\n",
    "x0=np.quantile(d11.obs['x_cord'], 0.5)\n",
    "y0=5000\n",
    "\n",
    "\n",
    "def anim(xy, i):\n",
    "   newxy=(xy-[x0,y0]) @ rotateMatrix(-2*i*np.pi/180) + [x0,y0]\n",
    "   return newxy\n",
    "\n",
    "\n",
    "newxy = anim(np.array(Qdata.obs[['x_cord', 'y_cord']]), -30)\n",
    "Qdata.obs['x_rotate'] = newxy[:, 0]\n",
    "Qdata.obs['y_rotate'] = newxy[:, 1]\n",
    "Qdata.obs['y_rotate'] = Qdata.obs['y_rotate'] + 500\n",
    "Qdata.obs['x_rotate'] = Qdata.obs['x_rotate'] + 800"
   ]
  },
  {
   "cell_type": "code",
   "execution_count": null,
   "metadata": {},
   "outputs": [],
   "source": [
    "sq = lambda x, y: (x - y)**2\n",
    "pred_dist_celery = np.sqrt(np.sum(sq(np.array(Qdata.obs[['x_rotate', 'y_rotate']]), np.array(Qdata.obs[['x_celery', 'y_celery']])), axis=1))\n",
    "print(np.median(pred_dist_celery))"
   ]
  },
  {
   "cell_type": "code",
   "execution_count": null,
   "metadata": {},
   "outputs": [],
   "source": []
  }
 ],
 "metadata": {
  "kernelspec": {
   "display_name": "Python 3",
   "language": "python",
   "name": "python3"
  },
  "language_info": {
   "codemirror_mode": {
    "name": "ipython",
    "version": 3
   },
   "file_extension": ".py",
   "mimetype": "text/x-python",
   "name": "python",
   "nbconvert_exporter": "python",
   "pygments_lexer": "ipython3",
   "version": "3.8.15"
  },
  "orig_nbformat": 4,
  "vscode": {
   "interpreter": {
    "hash": "0adcc2737ebf6a4a119f135174df96668767fca1ef1112612db5ecadf2b6d608"
   }
  }
 },
 "nbformat": 4,
 "nbformat_minor": 2
}

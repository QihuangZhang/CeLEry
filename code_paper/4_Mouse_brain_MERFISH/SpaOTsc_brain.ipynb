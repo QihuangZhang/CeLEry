{
 "cells": [
  {
   "cell_type": "code",
   "execution_count": 1,
   "metadata": {},
   "outputs": [
    {
     "name": "stderr",
     "output_type": "stream",
     "text": [
      "/usr/local/lib/python3.10/site-packages/tqdm/auto.py:22: TqdmWarning: IProgress not found. Please update jupyter and ipywidgets. See https://ipywidgets.readthedocs.io/en/stable/user_install.html\n",
      "  from .autonotebook import tqdm as notebook_tqdm\n"
     ]
    }
   ],
   "source": [
    "import os\n",
    "import numpy as np\n",
    "import pandas as pd\n",
    "import scanpy as sc\n",
    "import matplotlib.pyplot as plt\n",
    "from scipy.spatial.distance import cdist, squareform, pdist\n",
    "from scipy.stats import ks_2samp\n",
    "from scipy.stats import pearsonr\n",
    "\n",
    "import os,csv,re\n",
    "import math\n",
    "from skimage import io, color\n",
    "\n",
    "from scipy.sparse import issparse\n",
    "import random, torch\n",
    "import warnings\n",
    "warnings.filterwarnings(\"ignore\")\n",
    "import pickle\n",
    "from sklearn.model_selection import train_test_split\n",
    "from anndata import AnnData, read_h5ad\n",
    "import seaborn as sns\n",
    "\n",
    "import json\n",
    "\n",
    "from spaotsc import SpaOTsc"
   ]
  },
  {
   "cell_type": "code",
   "execution_count": 2,
   "metadata": {},
   "outputs": [],
   "source": [
    "data_merfish_raw = pd.read_csv(\"data/datasets_mouse_brain_map_BrainReceptorShowcase_Slice1_Replicate1_cell_by_gene_S1R1.csv\", index_col=0)   \n",
    "meta_data = pd.read_csv(\"data/datasets_mouse_brain_map_BrainReceptorShowcase_Slice1_Replicate1_cell_metadata_S1R1.csv\", index_col=0)\n",
    "\n",
    "data_merfish = AnnData(data_merfish_raw)\n",
    "\n",
    "data_merfish.obs['x_cord'] = meta_data['center_x'].tolist()\n",
    "data_merfish.obs['y_cord'] = meta_data['center_y'].tolist()\n",
    "data_merfish_raw = data_merfish.copy()\n",
    "\n",
    "sc.pp.filter_cells(data_merfish, min_counts=500)\n",
    "sc.pp.filter_cells(data_merfish, min_genes=100)\n",
    "\n",
    "sc.pp.neighbors(data_merfish, n_neighbors=15, use_rep='X', random_state=1)\n",
    "sc.tl.louvain(data_merfish, 0.4, random_state=1)"
   ]
  },
  {
   "cell_type": "code",
   "execution_count": 6,
   "metadata": {},
   "outputs": [],
   "source": [
    "Qdata = data_merfish[data_merfish.obs['x_cord'] <= np.quantile(data_merfish.obs['x_cord'], 0.5)]\n",
    "Rdata = data_merfish[data_merfish.obs['x_cord'] > np.quantile(data_merfish.obs['x_cord'], 0.5)]"
   ]
  },
  {
   "cell_type": "code",
   "execution_count": 7,
   "metadata": {},
   "outputs": [],
   "source": [
    "## right brain as training, left brain as testing\n",
    "datatest = Qdata.copy()\n",
    "datatrain = Rdata.copy()\n",
    "random.seed(2021)\n",
    "torch.manual_seed(2021)\n",
    "np.random.seed(2021)\n",
    "## Running spaOTsc\n",
    "df_sc = pd.DataFrame(datatest.X)\n",
    "is_dmat = cdist(np.array(datatrain.obs.iloc[:,0:2]), np.array(datatrain.obs.iloc[:,0:2]), 'euclidean')\n",
    "sc_dmat = cdist(datatest.X, datatest.X, 'euclidean')\n",
    "\n",
    "spsc = SpaOTsc.spatial_sc(sc_data=df_sc, is_dmat=is_dmat, sc_dmat=sc_dmat)\n",
    "cost_matrix = cdist(datatest.X, datatrain.X, 'euclidean')\n",
    "location_pred = spsc.transport_plan(cost_matrix)"
   ]
  },
  {
   "cell_type": "code",
   "execution_count": null,
   "metadata": {},
   "outputs": [],
   "source": [
    "location_sum = np.sum(location_pred, axis=1)\n",
    "location_pred_copy = location_pred / location_sum.reshape(len(location_sum), 1)\n",
    "\n",
    "pred_cord_transform = location_pred_copy.dot(np.array(Rdata.obs[['x_cord', 'y_cord']]))\n",
    "pred_cord_transform[:, 0] = -pred_cord_transform[:, 0] + 2*np.quantile(data_merfish.obs['x_cord'], 0.5)\n",
    "pred_cord_transform = pd.DataFrame(pred_cord_transform)\n",
    "pred_cord_transform.index = Qdata.obs.index\n",
    "pred_cord_transform.columns = ['x', 'y']\n",
    "\n",
    "pred_cord_transform.to_csv(\"output/brain/spaotsc_brain_left.csv\")"
   ]
  },
  {
   "cell_type": "code",
   "execution_count": null,
   "metadata": {},
   "outputs": [],
   "source": []
  },
  {
   "cell_type": "code",
   "execution_count": null,
   "metadata": {},
   "outputs": [],
   "source": [
    "## left brain as training, right brain as testing\n",
    "datatest = Rdata.copy()\n",
    "datatrain = Qdata.copy()\n",
    "random.seed(2021)\n",
    "torch.manual_seed(2021)\n",
    "np.random.seed(2021)\n",
    "## Running spaOTsc\n",
    "df_sc = pd.DataFrame(datatest.X)\n",
    "is_dmat = cdist(np.array(datatrain.obs.iloc[:,0:2]), np.array(datatrain.obs.iloc[:,0:2]), 'euclidean')\n",
    "sc_dmat = cdist(datatest.X, datatest.X, 'euclidean')\n",
    "\n",
    "spsc = SpaOTsc.spatial_sc(sc_data=df_sc, is_dmat=is_dmat, sc_dmat=sc_dmat)\n",
    "cost_matrix = cdist(datatest.X, datatrain.X, 'euclidean')\n",
    "location_pred = spsc.transport_plan(cost_matrix)"
   ]
  },
  {
   "cell_type": "code",
   "execution_count": null,
   "metadata": {},
   "outputs": [],
   "source": [
    "location_sum = np.sum(location_pred, axis=1)\n",
    "location_pred_copy = location_pred / location_sum.reshape(len(location_sum), 1)\n",
    "\n",
    "pred_cord_transform = location_pred_copy.dot(np.array(Rdata.obs[['x_cord', 'y_cord']]))\n",
    "pred_cord_transform[:, 0] = -pred_cord_transform[:, 0] + 2*np.quantile(data_merfish.obs['x_cord'], 0.5)\n",
    "pred_cord_transform = pd.DataFrame(pred_cord_transform)\n",
    "pred_cord_transform.index = Qdata.obs.index\n",
    "pred_cord_transform.columns = ['x', 'y']\n",
    "\n",
    "pred_cord_transform.to_csv(\"output/brain/spaotsc_brain_right.csv\")"
   ]
  },
  {
   "cell_type": "code",
   "execution_count": null,
   "metadata": {},
   "outputs": [],
   "source": []
  }
 ],
 "metadata": {
  "kernelspec": {
   "display_name": "Python 3.10.8 64-bit",
   "language": "python",
   "name": "python3"
  },
  "language_info": {
   "codemirror_mode": {
    "name": "ipython",
    "version": 3
   },
   "file_extension": ".py",
   "mimetype": "text/x-python",
   "name": "python",
   "nbconvert_exporter": "python",
   "pygments_lexer": "ipython3",
   "version": "3.10.8 (main, Oct 13 2022, 10:17:43) [Clang 14.0.0 (clang-1400.0.29.102)]"
  },
  "orig_nbformat": 4,
  "vscode": {
   "interpreter": {
    "hash": "aee8b7b246df8f9039afb4144a1f6fd8d2ca17a180786b69acc140d282b71a49"
   }
  }
 },
 "nbformat": 4,
 "nbformat_minor": 2
}

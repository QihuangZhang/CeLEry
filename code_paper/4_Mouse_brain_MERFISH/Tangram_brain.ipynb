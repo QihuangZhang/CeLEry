{
 "cells": [
  {
   "cell_type": "code",
   "execution_count": 1,
   "metadata": {},
   "outputs": [
    {
     "name": "stderr",
     "output_type": "stream",
     "text": [
      "/usr/local/lib/python3.8/site-packages/tqdm/auto.py:22: TqdmWarning: IProgress not found. Please update jupyter and ipywidgets. See https://ipywidgets.readthedocs.io/en/stable/user_install.html\n",
      "  from .autonotebook import tqdm as notebook_tqdm\n"
     ]
    }
   ],
   "source": [
    "import os, sys\n",
    "import numpy as np\n",
    "import pandas as pd\n",
    "import matplotlib.pyplot as plt\n",
    "import seaborn as sns\n",
    "import scanpy as sc\n",
    "import torch\n",
    "import tangram as tg\n",
    "from sklearn.model_selection import train_test_split\n",
    "from anndata import AnnData, read_h5ad\n",
    "import random"
   ]
  },
  {
   "cell_type": "code",
   "execution_count": 2,
   "metadata": {},
   "outputs": [],
   "source": [
    "data_merfish_raw = pd.read_csv(\"data/datasets_mouse_brain_map_BrainReceptorShowcase_Slice1_Replicate1_cell_by_gene_S1R1.csv\", index_col=0)   \n",
    "meta_data = pd.read_csv(\"data/datasets_mouse_brain_map_BrainReceptorShowcase_Slice1_Replicate1_cell_metadata_S1R1.csv\", index_col=0)\n",
    "\n",
    "data_merfish = AnnData(data_merfish_raw)\n",
    "\n",
    "data_merfish.obs['x_cord'] = meta_data['center_x'].tolist()\n",
    "data_merfish.obs['y_cord'] = meta_data['center_y'].tolist()\n",
    "data_merfish_raw = data_merfish.copy()\n",
    "\n",
    "sc.pp.filter_cells(data_merfish, min_counts=500)\n",
    "sc.pp.filter_cells(data_merfish, min_genes=100)\n",
    "\n",
    "sc.pp.neighbors(data_merfish, n_neighbors=15, use_rep='X', random_state=1)\n",
    "sc.tl.louvain(data_merfish, 0.4, random_state=1)"
   ]
  },
  {
   "cell_type": "code",
   "execution_count": 6,
   "metadata": {},
   "outputs": [],
   "source": [
    "## right brain as training, left brain as testing\n",
    "Qdata = data_merfish[data_merfish.obs['x_cord'] <= np.quantile(data_merfish.obs['x_cord'], 0.5)]\n",
    "Rdata = data_merfish[data_merfish.obs['x_cord'] > np.quantile(data_merfish.obs['x_cord'], 0.5)]"
   ]
  },
  {
   "cell_type": "code",
   "execution_count": 7,
   "metadata": {},
   "outputs": [
    {
     "name": "stderr",
     "output_type": "stream",
     "text": [
      "INFO:root:649 training genes are saved in `uns``training_genes` of both single cell and spatial Anndatas.\n",
      "INFO:root:649 overlapped genes are saved in `uns``overlap_genes` of both single cell and spatial Anndatas.\n",
      "INFO:root:uniform based density prior is calculated and saved in `obs``uniform_density` of the spatial Anndata.\n",
      "INFO:root:rna count based density prior is calculated and saved in `obs``rna_count_based_density` of the spatial Anndata.\n"
     ]
    }
   ],
   "source": [
    "tg.pp_adatas(Qdata, Rdata, genes=Rdata.var.index)\n",
    "\n",
    "assert Qdata.uns['training_genes'] == Rdata.uns['training_genes']"
   ]
  },
  {
   "cell_type": "code",
   "execution_count": 11,
   "metadata": {},
   "outputs": [
    {
     "name": "stderr",
     "output_type": "stream",
     "text": [
      "INFO:root:Allocate tensors for mapping.\n",
      "INFO:root:Begin training with 649 genes and rna_count_based density_prior in cells mode...\n",
      "INFO:root:Printing scores every 100 epochs.\n"
     ]
    },
    {
     "name": "stdout",
     "output_type": "stream",
     "text": [
      "Score: 0.260, KL reg: 0.043\n",
      "Score: 0.822, KL reg: 0.002\n",
      "Score: 0.835, KL reg: 0.002\n",
      "Score: 0.838, KL reg: 0.002\n",
      "Score: 0.840, KL reg: 0.002\n",
      "Score: 0.841, KL reg: 0.002\n",
      "Score: 0.841, KL reg: 0.002\n",
      "Score: 0.842, KL reg: 0.002\n",
      "Score: 0.842, KL reg: 0.002\n",
      "Score: 0.842, KL reg: 0.002\n"
     ]
    },
    {
     "name": "stderr",
     "output_type": "stream",
     "text": [
      "INFO:root:Saving results..\n"
     ]
    }
   ],
   "source": [
    "ad_map = tg.map_cells_to_space(\n",
    "    adata_sc=Qdata,\n",
    "    adata_sp=Rdata,\n",
    "    device='cpu',\n",
    "    # device='cuda:0',\n",
    ")"
   ]
  },
  {
   "cell_type": "code",
   "execution_count": 12,
   "metadata": {},
   "outputs": [],
   "source": [
    "Rdata_location_pred = ad_map.X.dot(np.array(Rdata.obs[['x_cord', 'y_cord']]))\n",
    "Rdata_location_pred[:, 0] = -Rdata_location_pred[:, 0] + 2*np.quantile(data_merfish.obs['x_cord'], 0.5)\n",
    "Rdata_location_pred = pd.DataFrame(Rdata_location_pred)\n",
    "Rdata_location_pred.index = Qdata.obs.index\n",
    "Rdata_location_pred.columns = ['x', 'y']\n",
    "\n",
    "Rdata_location_pred.to_csv(\"output/brain/tangram_brain_left.csv\")"
   ]
  },
  {
   "cell_type": "code",
   "execution_count": null,
   "metadata": {},
   "outputs": [],
   "source": []
  },
  {
   "cell_type": "code",
   "execution_count": 20,
   "metadata": {},
   "outputs": [
    {
     "name": "stderr",
     "output_type": "stream",
     "text": [
      "INFO:root:649 training genes are saved in `uns``training_genes` of both single cell and spatial Anndatas.\n",
      "INFO:root:649 overlapped genes are saved in `uns``overlap_genes` of both single cell and spatial Anndatas.\n",
      "INFO:root:uniform based density prior is calculated and saved in `obs``uniform_density` of the spatial Anndata.\n",
      "INFO:root:rna count based density prior is calculated and saved in `obs``rna_count_based_density` of the spatial Anndata.\n"
     ]
    }
   ],
   "source": [
    "## left brain as training, right brain as testing\n",
    "Rdata = data_merfish[data_merfish.obs['x_cord'] <= np.quantile(data_merfish.obs['x_cord'], 0.5)]\n",
    "Qdata = data_merfish[data_merfish.obs['x_cord'] > np.quantile(data_merfish.obs['x_cord'], 0.5)]\n",
    "\n",
    "tg.pp_adatas(Qdata, Rdata, genes=Rdata.var.index)\n",
    "assert Qdata.uns['training_genes'] == Rdata.uns['training_genes']"
   ]
  },
  {
   "cell_type": "code",
   "execution_count": 21,
   "metadata": {},
   "outputs": [
    {
     "name": "stderr",
     "output_type": "stream",
     "text": [
      "INFO:root:Allocate tensors for mapping.\n",
      "INFO:root:Begin training with 649 genes and rna_count_based density_prior in cells mode...\n",
      "INFO:root:Printing scores every 100 epochs.\n"
     ]
    },
    {
     "name": "stdout",
     "output_type": "stream",
     "text": [
      "Score: 0.260, KL reg: 0.046\n",
      "Score: 0.820, KL reg: 0.002\n",
      "Score: 0.833, KL reg: 0.002\n",
      "Score: 0.837, KL reg: 0.002\n",
      "Score: 0.838, KL reg: 0.002\n",
      "Score: 0.839, KL reg: 0.002\n",
      "Score: 0.840, KL reg: 0.002\n",
      "Score: 0.840, KL reg: 0.002\n",
      "Score: 0.841, KL reg: 0.002\n",
      "Score: 0.841, KL reg: 0.002\n"
     ]
    },
    {
     "name": "stderr",
     "output_type": "stream",
     "text": [
      "INFO:root:Saving results..\n"
     ]
    }
   ],
   "source": [
    "ad_map = tg.map_cells_to_space(\n",
    "    adata_sc=Qdata,\n",
    "    adata_sp=Rdata,\n",
    "    device='cpu',\n",
    "    # device='cuda:0',\n",
    ")"
   ]
  },
  {
   "cell_type": "code",
   "execution_count": 22,
   "metadata": {},
   "outputs": [],
   "source": [
    "Rdata_location_pred = ad_map.X.dot(np.array(Rdata.obs[['x_cord', 'y_cord']]))\n",
    "Rdata_location_pred[:, 0] = -Rdata_location_pred[:, 0] + 2*np.quantile(data_merfish.obs['x_cord'], 0.5)\n",
    "Rdata_location_pred = pd.DataFrame(Rdata_location_pred)\n",
    "Rdata_location_pred.index = Qdata.obs.index\n",
    "Rdata_location_pred.columns = ['x', 'y']\n",
    "\n",
    "Rdata_location_pred.to_csv(\"output/brain/tangram_brain_right.csv\")"
   ]
  },
  {
   "cell_type": "code",
   "execution_count": null,
   "metadata": {},
   "outputs": [],
   "source": []
  }
 ],
 "metadata": {
  "kernelspec": {
   "display_name": "Python 3.8.15 64-bit",
   "language": "python",
   "name": "python3"
  },
  "language_info": {
   "codemirror_mode": {
    "name": "ipython",
    "version": 3
   },
   "file_extension": ".py",
   "mimetype": "text/x-python",
   "name": "python",
   "nbconvert_exporter": "python",
   "pygments_lexer": "ipython3",
   "version": "3.8.15 (default, Oct 11 2022, 21:52:37) \n[Clang 14.0.0 (clang-1400.0.29.102)]"
  },
  "orig_nbformat": 4,
  "vscode": {
   "interpreter": {
    "hash": "0adcc2737ebf6a4a119f135174df96668767fca1ef1112612db5ecadf2b6d608"
   }
  }
 },
 "nbformat": 4,
 "nbformat_minor": 2
}

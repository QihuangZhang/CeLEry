{
 "cells": [
  {
   "cell_type": "code",
   "execution_count": 1,
   "metadata": {},
   "outputs": [
    {
     "name": "stderr",
     "output_type": "stream",
     "text": [
      "/usr/local/lib/python3.10/site-packages/tqdm/auto.py:22: TqdmWarning: IProgress not found. Please update jupyter and ipywidgets. See https://ipywidgets.readthedocs.io/en/stable/user_install.html\n",
      "  from .autonotebook import tqdm as notebook_tqdm\n"
     ]
    }
   ],
   "source": [
    "import novosparc as ns\n",
    "\n",
    "import os\n",
    "import numpy as np\n",
    "import pandas as pd\n",
    "import scanpy as sc\n",
    "import matplotlib.pyplot as plt\n",
    "import altair as alt\n",
    "from scipy.spatial.distance import cdist, squareform, pdist\n",
    "from scipy.stats import ks_2samp\n",
    "from scipy.stats import pearsonr\n",
    "\n",
    "import random\n",
    "random.seed(0)\n",
    "\n",
    "from skimage import io, color\n",
    "import torch\n",
    "from torch.nn import functional as F\n",
    "import json\n",
    "\n",
    "from sklearn.model_selection import train_test_split\n",
    "from anndata import AnnData, read_h5ad\n",
    "import matplotlib.pyplot as plt\n",
    "import seaborn as sns"
   ]
  },
  {
   "cell_type": "code",
   "execution_count": 2,
   "metadata": {},
   "outputs": [
    {
     "name": "stderr",
     "output_type": "stream",
     "text": [
      "/var/folders/mc/kqfjr86j5gz9cdyb9w1kfhn40000gp/T/ipykernel_34616/3711195478.py:5: FutureWarning: X.dtype being converted to np.float32 from float64. In the next version of anndata (0.9) conversion will not be automatic. Pass dtype explicitly to avoid this warning. Pass `AnnData(X, dtype=X.dtype, ...)` to get the future behavour.\n",
      "  data_merfish = AnnData(data_merfish_raw)\n"
     ]
    }
   ],
   "source": [
    "data_merfish_raw = pd.read_csv(\"data/datasets_mouse_brain_map_BrainReceptorShowcase_Slice1_Replicate1_cell_by_gene_S1R1.csv\", index_col=0)   \n",
    "meta_data = pd.read_csv(\"data/datasets_mouse_brain_map_BrainReceptorShowcase_Slice1_Replicate1_cell_metadata_S1R1.csv\", index_col=0)\n",
    "\n",
    "data_merfish = AnnData(data_merfish_raw)\n",
    "\n",
    "data_merfish.obs['x_cord'] = meta_data['center_x'].tolist()\n",
    "data_merfish.obs['y_cord'] = meta_data['center_y'].tolist()\n",
    "data_merfish_raw = data_merfish.copy()\n",
    "\n",
    "sc.pp.filter_cells(data_merfish, min_counts=500)\n",
    "sc.pp.filter_cells(data_merfish, min_genes=100)\n",
    "\n",
    "sc.pp.neighbors(data_merfish, n_neighbors=15, use_rep='X', random_state=1)\n",
    "sc.tl.louvain(data_merfish, 0.4, random_state=1)"
   ]
  },
  {
   "cell_type": "code",
   "execution_count": 4,
   "metadata": {},
   "outputs": [],
   "source": [
    "Qdata = data_merfish[data_merfish.obs['x_cord'] <= np.quantile(data_merfish.obs['x_cord'], 0.5)]\n",
    "Rdata = data_merfish[data_merfish.obs['x_cord'] > np.quantile(data_merfish.obs['x_cord'], 0.5)]"
   ]
  },
  {
   "cell_type": "code",
   "execution_count": 5,
   "metadata": {},
   "outputs": [],
   "source": [
    "## right brain as training, left brain as testing\n",
    "datatrain = Rdata.copy()\n",
    "datatest = Qdata.copy()\n",
    "\n",
    "random.seed(2021)\n",
    "torch.manual_seed(2021)\n",
    "np.random.seed(2021)\n",
    "## Running novosparc\n",
    "locations_apriori = datatrain.obs[['x_cord', 'y_cord']].values\n",
    "tissue = ns.cm.Tissue(dataset=datatest, locations=locations_apriori)\n",
    "num_neighbors_s = num_neighbors_t = 5\n",
    "\n",
    "# params for linear cost\n",
    "atlas_genes = datatrain.var\n",
    "markers = list(atlas_genes.index)\n",
    "num_genes = len(markers)\n",
    "atlas_matrix = datatrain.to_df().values\n",
    "markers_idx = pd.DataFrame({'markers_idx': np.arange(num_genes)}, index=markers)\n",
    "markers_to_use = np.concatenate(markers_idx.loc[markers].values)"
   ]
  },
  {
   "cell_type": "code",
   "execution_count": 6,
   "metadata": {},
   "outputs": [
    {
     "name": "stdout",
     "output_type": "stream",
     "text": [
      "Setting up for reconstruction ... done ( 384.1 seconds )\n",
      "Reconstructing spatial information with 649 markers: 21578 cells and 21578 locations ... \n",
      "Trying with epsilon: 5.00e-03\n"
     ]
    },
    {
     "name": "stderr",
     "output_type": "stream",
     "text": [
      "/usr/local/lib/python3.10/site-packages/ot/bregman.py:517: UserWarning: Sinkhorn did not converge. You might want to increase the number of iterations `numItermax` or the regularization parameter `reg`.\n",
      "  warnings.warn(\"Sinkhorn did not converge. You might want to \"\n"
     ]
    }
   ],
   "source": [
    "tissue.setup_reconstruction(atlas_matrix=atlas_matrix, \n",
    "                        markers_to_use=markers_to_use, \n",
    "                        num_neighbors_s=num_neighbors_s, \n",
    "                        num_neighbors_t=num_neighbors_t)\n",
    "        \n",
    "tissue.reconstruct(alpha_linear=0.8, epsilon=5e-3)\n",
    "\n",
    "location_pred = tissue.gw"
   ]
  },
  {
   "cell_type": "code",
   "execution_count": 7,
   "metadata": {},
   "outputs": [],
   "source": [
    "location_sum = np.sum(location_pred, axis=1)\n",
    "location_pred_copy = location_pred / location_sum.reshape(len(location_sum), 1)\n",
    "\n",
    "pred_cord_transform = location_pred_copy.dot(np.array(Rdata.obs[['x_cord', 'y_cord']]))\n",
    "pred_cord_transform[:, 0] = -pred_cord_transform[:, 0] + 2*np.quantile(data_merfish.obs['x_cord'], 0.5)\n",
    "pred_cord_transform = pd.DataFrame(pred_cord_transform)\n",
    "pred_cord_transform.index = Qdata.obs.index\n",
    "pred_cord_transform.columns = ['x', 'y']\n",
    "\n",
    "pred_cord_transform.to_csv(\"output/brain/novosparc_brain_left.csv\")"
   ]
  },
  {
   "cell_type": "code",
   "execution_count": null,
   "metadata": {},
   "outputs": [],
   "source": []
  },
  {
   "cell_type": "code",
   "execution_count": null,
   "metadata": {},
   "outputs": [],
   "source": [
    "## left brain as training, right brain as testing\n",
    "datatrain = Rdata.copy()\n",
    "datatest = Qdata.copy()\n",
    "\n",
    "random.seed(2021)\n",
    "torch.manual_seed(2021)\n",
    "np.random.seed(2021)\n",
    "## Running novosparc\n",
    "locations_apriori = datatrain.obs[['x_cord', 'y_cord']].values\n",
    "tissue = ns.cm.Tissue(dataset=datatest, locations=locations_apriori)\n",
    "num_neighbors_s = num_neighbors_t = 5\n",
    "\n",
    "# params for linear cost\n",
    "atlas_genes = datatrain.var\n",
    "markers = list(atlas_genes.index)\n",
    "num_genes = len(markers)\n",
    "atlas_matrix = datatrain.to_df().values\n",
    "markers_idx = pd.DataFrame({'markers_idx': np.arange(num_genes)}, index=markers)\n",
    "markers_to_use = np.concatenate(markers_idx.loc[markers].values)"
   ]
  },
  {
   "cell_type": "code",
   "execution_count": null,
   "metadata": {},
   "outputs": [],
   "source": [
    "tissue.setup_reconstruction(atlas_matrix=atlas_matrix, \n",
    "                        markers_to_use=markers_to_use, \n",
    "                        num_neighbors_s=num_neighbors_s, \n",
    "                        num_neighbors_t=num_neighbors_t)\n",
    "        \n",
    "tissue.reconstruct(alpha_linear=0.8, epsilon=5e-3)\n",
    "\n",
    "location_pred = tissue.gw"
   ]
  },
  {
   "cell_type": "code",
   "execution_count": null,
   "metadata": {},
   "outputs": [],
   "source": [
    "location_sum = np.sum(location_pred, axis=1)\n",
    "location_pred_copy = location_pred / location_sum.reshape(len(location_sum), 1)\n",
    "\n",
    "pred_cord_transform = location_pred_copy.dot(np.array(Rdata.obs[['x_cord', 'y_cord']]))\n",
    "pred_cord_transform[:, 0] = -pred_cord_transform[:, 0] + 2*np.quantile(data_merfish.obs['x_cord'], 0.5)\n",
    "\n",
    "pred_cord_transform = pd.DataFrame(pred_cord_transform)\n",
    "pred_cord_transform.index = Qdata.obs.index\n",
    "pred_cord_transform.columns = ['x', 'y']\n",
    "\n",
    "pred_cord_transform.to_csv(\"output/brain/novosparc_brain_right.csv\")"
   ]
  },
  {
   "cell_type": "code",
   "execution_count": null,
   "metadata": {},
   "outputs": [],
   "source": []
  }
 ],
 "metadata": {
  "kernelspec": {
   "display_name": "Python 3",
   "language": "python",
   "name": "python3"
  },
  "language_info": {
   "codemirror_mode": {
    "name": "ipython",
    "version": 3
   },
   "file_extension": ".py",
   "mimetype": "text/x-python",
   "name": "python",
   "nbconvert_exporter": "python",
   "pygments_lexer": "ipython3",
   "version": "3.10.8 (main, Oct 13 2022, 10:17:43) [Clang 14.0.0 (clang-1400.0.29.102)]"
  },
  "orig_nbformat": 4,
  "vscode": {
   "interpreter": {
    "hash": "aee8b7b246df8f9039afb4144a1f6fd8d2ca17a180786b69acc140d282b71a49"
   }
  }
 },
 "nbformat": 4,
 "nbformat_minor": 2
}

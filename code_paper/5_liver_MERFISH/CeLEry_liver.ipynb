{
 "cells": [
  {
   "cell_type": "code",
   "execution_count": 1,
   "metadata": {},
   "outputs": [
    {
     "name": "stderr",
     "output_type": "stream",
     "text": [
      "/usr/local/lib/python3.8/site-packages/tqdm/auto.py:22: TqdmWarning: IProgress not found. Please update jupyter and ipywidgets. See https://ipywidgets.readthedocs.io/en/stable/user_install.html\n",
      "  from .autonotebook import tqdm as notebook_tqdm\n"
     ]
    }
   ],
   "source": [
    "import CeLEry as cel\n",
    "\n",
    "import os,csv,re\n",
    "import pandas as pd\n",
    "import numpy as np\n",
    "import scanpy as sc\n",
    "import math\n",
    "from skimage import io, color\n",
    "\n",
    "from scipy.sparse import issparse\n",
    "import random, torch\n",
    "import warnings\n",
    "warnings.filterwarnings(\"ignore\")\n",
    "import pickle\n",
    "from sklearn.model_selection import train_test_split\n",
    "from anndata import AnnData, read_h5ad\n",
    "\n",
    "import json"
   ]
  },
  {
   "cell_type": "code",
   "execution_count": null,
   "metadata": {},
   "outputs": [],
   "source": [
    "data_merfish_raw = pd.read_csv(\"data/HumanLiverCancerPatient2_cell_by_gene.csv\", index_col=0)   \n",
    "meta_data = pd.read_csv(\"data/HumanLiverCancerPatient2_cell_metadata.csv\", index_col=0)\n",
    "meta_data = meta_data.sort_index()\n",
    "\n",
    "data_merfish = AnnData(data_merfish_raw)\n",
    "data_merfish.obs['x_cord'] = meta_data['center_x'].tolist()\n",
    "data_merfish.obs['y_cord'] = meta_data['center_y'].tolist()\n",
    "data_merfish_raw = data_merfish.copy()\n",
    "\n",
    "def findBlank(name):\n",
    "    return \"Blank\" in name\n",
    "\n",
    "blank_lst = np.array(list(map(findBlank, data_merfish.var.index)))\n",
    "data_merfish = data_merfish[:, blank_lst == False]\n",
    "\n",
    "sc.pp.filter_cells(data_merfish, min_genes=100)\n",
    "sc.pp.filter_cells(data_merfish, min_counts=500)\n",
    "\n",
    "sc.pp.neighbors(data_merfish, n_neighbors = 15, use_rep=\"X\")\n",
    "sc.tl.louvain(data_merfish, 0.3, random_state=1)\n",
    "\n",
    "data_merfish.write_h5ad(\"data/liver_merfish.h5ad\")"
   ]
  },
  {
   "cell_type": "code",
   "execution_count": 2,
   "metadata": {},
   "outputs": [],
   "source": [
    "data_merfish = read_h5ad(\"data/liver_merfish.h5ad\")"
   ]
  },
  {
   "cell_type": "code",
   "execution_count": null,
   "metadata": {},
   "outputs": [],
   "source": [
    "Rdata_ind, Qdata_ind, _, _ =train_test_split(range(data_merfish.shape[0]), data_merfish.obs['louvain'], test_size=0.5,random_state=1,stratify=data_merfish.obs['louvain'])\n",
    "\n",
    "Rdata = data_merfish[np.sort(Rdata_ind), :]\n",
    "Qdata = data_merfish[np.sort(Qdata_ind), :]\n",
    "print((Rdata.shape, Qdata.shape))"
   ]
  },
  {
   "cell_type": "code",
   "execution_count": null,
   "metadata": {},
   "outputs": [],
   "source": [
    "cel.get_zscore(Qdata)\n",
    "cel.get_zscore(Rdata)"
   ]
  },
  {
   "cell_type": "code",
   "execution_count": 10,
   "metadata": {},
   "outputs": [],
   "source": [
    "Rdata.obs = Rdata.obs[['x_cord', 'y_cord']]\n",
    "model_train = cel.Fit_cord (data_train = Rdata, hidden_dims = [50, 20, 10], num_epochs_max = 3000, number_error_try=50, batch_size = 128, path = \"output/liver\", filename = \"liver_merfish\")"
   ]
  },
  {
   "cell_type": "code",
   "execution_count": null,
   "metadata": {},
   "outputs": [],
   "source": [
    "pred_cord = cel.Predict_cord (data_test = Qdata, path = \"output/liver\", filename = \"liver_merfish\")\n",
    "\n",
    "data_train = Qdata.copy()\n",
    "traindata = (data_train.X.A if issparse(data_train.X) else data_train.X)\n",
    "tdatax = np.expand_dims(traindata, axis = 0)\n",
    "tdata_rs = np.swapaxes(tdatax, 1, 2)\n",
    "test_cord = cel.wrap_gene_location(tdata_rs, data_train.obs[['x_cord', 'y_cord']])\n",
    "\n",
    "pred_cord_transformx = pred_cord[:,0]*(test_cord.xmax-test_cord.xmin) + test_cord.xmin\n",
    "pred_cord_transformy = pred_cord[:,1]*(test_cord.ymax-test_cord.ymin) + test_cord.ymin\n",
    "pred_cord_transform = np.array([pred_cord_transformx, pred_cord_transformy]).T\n",
    "\n",
    "np.save(\"output/liver/celery_liver.npy\", pred_cord_transform)"
   ]
  },
  {
   "cell_type": "code",
   "execution_count": null,
   "metadata": {},
   "outputs": [],
   "source": []
  }
 ],
 "metadata": {
  "kernelspec": {
   "display_name": "Python 3",
   "language": "python",
   "name": "python3"
  },
  "language_info": {
   "codemirror_mode": {
    "name": "ipython",
    "version": 3
   },
   "file_extension": ".py",
   "mimetype": "text/x-python",
   "name": "python",
   "nbconvert_exporter": "python",
   "pygments_lexer": "ipython3",
   "version": "3.8.15 (default, Oct 11 2022, 21:52:37) \n[Clang 14.0.0 (clang-1400.0.29.102)]"
  },
  "orig_nbformat": 4,
  "vscode": {
   "interpreter": {
    "hash": "0adcc2737ebf6a4a119f135174df96668767fca1ef1112612db5ecadf2b6d608"
   }
  }
 },
 "nbformat": 4,
 "nbformat_minor": 2
}

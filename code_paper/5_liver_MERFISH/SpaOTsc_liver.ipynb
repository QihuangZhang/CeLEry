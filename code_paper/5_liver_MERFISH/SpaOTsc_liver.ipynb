{
 "cells": [
  {
   "cell_type": "code",
   "execution_count": 1,
   "metadata": {},
   "outputs": [
    {
     "name": "stderr",
     "output_type": "stream",
     "text": [
      "/usr/local/lib/python3.10/site-packages/tqdm/auto.py:22: TqdmWarning: IProgress not found. Please update jupyter and ipywidgets. See https://ipywidgets.readthedocs.io/en/stable/user_install.html\n",
      "  from .autonotebook import tqdm as notebook_tqdm\n"
     ]
    }
   ],
   "source": [
    "import os\n",
    "import numpy as np\n",
    "import pandas as pd\n",
    "import scanpy as sc\n",
    "import matplotlib.pyplot as plt\n",
    "from scipy.spatial.distance import cdist, squareform, pdist\n",
    "from scipy.stats import ks_2samp\n",
    "from scipy.stats import pearsonr\n",
    "\n",
    "\n",
    "\n",
    "import os,csv,re\n",
    "import math\n",
    "from skimage import io, color\n",
    "\n",
    "from scipy.sparse import issparse\n",
    "import random, torch\n",
    "import warnings\n",
    "warnings.filterwarnings(\"ignore\")\n",
    "import pickle\n",
    "from sklearn.model_selection import train_test_split\n",
    "from anndata import AnnData, read_h5ad\n",
    "import seaborn as sns\n",
    "\n",
    "import json\n",
    "\n",
    "from spaotsc import SpaOTsc"
   ]
  },
  {
   "cell_type": "code",
   "execution_count": 2,
   "metadata": {},
   "outputs": [],
   "source": [
    "data_merfish = read_h5ad(\"data/liver_merfish.h5ad\")"
   ]
  },
  {
   "cell_type": "code",
   "execution_count": 3,
   "metadata": {},
   "outputs": [
    {
     "name": "stdout",
     "output_type": "stream",
     "text": [
      "((78222, 500), (78223, 500))\n"
     ]
    }
   ],
   "source": [
    "Rdata_ind, Qdata_ind, _, _ =train_test_split(range(data_merfish.shape[0]), data_merfish.obs['louvain'], test_size=0.5,random_state=1,stratify=data_merfish.obs['louvain'])\n",
    "\n",
    "Rdata = data_merfish[np.sort(Rdata_ind), :]\n",
    "Qdata = data_merfish[np.sort(Qdata_ind), :]\n",
    "\n",
    "## Cannot run on the entire dataset, downsampling is needed\n",
    "Rdata_ind, Qdata_ind, _, _ =train_test_split(range(Rdata.shape[0]), Rdata.obs['louvain'], test_size=0.25,random_state=1,stratify=Rdata.obs['louvain'])\n",
    "Rdata = Rdata[np.sort(Qdata_ind), :]\n",
    "\n",
    "Rdata_ind, Qdata_ind, _, _ =train_test_split(range(Qdata.shape[0]), Qdata.obs['louvain'], test_size=0.25,random_state=1,stratify=Qdata.obs['louvain'])\n",
    "Qdata = Qdata[np.sort(Qdata_ind), :]\n",
    "\n",
    "print((Rdata.shape, Qdata.shape))"
   ]
  },
  {
   "cell_type": "code",
   "execution_count": 5,
   "metadata": {},
   "outputs": [],
   "source": [
    "datatest = Qdata.copy()\n",
    "datatrain = Rdata.copy()\n",
    "random.seed(2021)\n",
    "torch.manual_seed(2021)\n",
    "np.random.seed(2021)\n",
    "\n",
    "## Running spaOTsc\n",
    "df_sc = pd.DataFrame(datatest.X)\n",
    "is_dmat = cdist(np.array(datatrain.obs.iloc[:,0:2]), np.array(datatrain.obs.iloc[:,0:2]), 'euclidean')\n",
    "sc_dmat = cdist(datatest.X, datatest.X, 'euclidean')"
   ]
  },
  {
   "cell_type": "code",
   "execution_count": 6,
   "metadata": {},
   "outputs": [],
   "source": [
    "spsc = SpaOTsc.spatial_sc(sc_data=df_sc, is_dmat=is_dmat, sc_dmat=sc_dmat)\n",
    "cost_matrix = cdist(datatest.X, datatrain.X, 'euclidean')\n",
    "        \n",
    "location_pred = spsc.transport_plan(cost_matrix)"
   ]
  },
  {
   "cell_type": "code",
   "execution_count": 9,
   "metadata": {},
   "outputs": [],
   "source": [
    "location_sum = np.sum(location_pred, axis=1)\n",
    "location_pred_copy = location_pred / location_sum.reshape(len(location_sum), 1)\n",
    "\n",
    "pred_cord_transform = location_pred_copy.dot(np.array(Rdata.obs[['x_cord', 'y_cord']]))\n",
    "np.save(\"output/liver/spaotsc_liver.npy\", pred_cord_transform)"
   ]
  },
  {
   "cell_type": "code",
   "execution_count": null,
   "metadata": {},
   "outputs": [],
   "source": []
  }
 ],
 "metadata": {
  "kernelspec": {
   "display_name": "Python 3",
   "language": "python",
   "name": "python3"
  },
  "language_info": {
   "codemirror_mode": {
    "name": "ipython",
    "version": 3
   },
   "file_extension": ".py",
   "mimetype": "text/x-python",
   "name": "python",
   "nbconvert_exporter": "python",
   "pygments_lexer": "ipython3",
   "version": "3.10.8 (main, Oct 13 2022, 10:17:43) [Clang 14.0.0 (clang-1400.0.29.102)]"
  },
  "orig_nbformat": 4,
  "vscode": {
   "interpreter": {
    "hash": "aee8b7b246df8f9039afb4144a1f6fd8d2ca17a180786b69acc140d282b71a49"
   }
  }
 },
 "nbformat": 4,
 "nbformat_minor": 2
}

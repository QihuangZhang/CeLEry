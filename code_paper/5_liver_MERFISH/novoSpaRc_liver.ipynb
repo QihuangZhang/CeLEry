{
 "cells": [
  {
   "cell_type": "code",
   "execution_count": null,
   "metadata": {},
   "outputs": [],
   "source": [
    "import novosparc as ns\n",
    "\n",
    "import os\n",
    "import numpy as np\n",
    "import pandas as pd\n",
    "import scanpy as sc\n",
    "import matplotlib.pyplot as plt\n",
    "import altair as alt\n",
    "from scipy.spatial.distance import cdist, squareform, pdist\n",
    "from scipy.stats import ks_2samp\n",
    "from scipy.stats import pearsonr\n",
    "\n",
    "import random\n",
    "random.seed(0)\n",
    "\n",
    "from skimage import io, color\n",
    "import torch\n",
    "from torch.nn import functional as F\n",
    "import json\n",
    "\n",
    "from sklearn.model_selection import train_test_split\n",
    "from anndata import AnnData, read_h5ad"
   ]
  },
  {
   "cell_type": "code",
   "execution_count": null,
   "metadata": {},
   "outputs": [],
   "source": [
    "data_merfish = read_h5ad(\"data/liver_merfish.h5ad\")"
   ]
  },
  {
   "cell_type": "code",
   "execution_count": null,
   "metadata": {},
   "outputs": [],
   "source": [
    "Rdata_ind, Qdata_ind, _, _ =train_test_split(range(data_merfish.shape[0]), data_merfish.obs['louvain'], test_size=0.5,random_state=1,stratify=data_merfish.obs['louvain'])\n",
    "\n",
    "Rdata = data_merfish[np.sort(Rdata_ind), :]\n",
    "Qdata = data_merfish[np.sort(Qdata_ind), :]\n",
    "\n",
    "## Cannot run on the entire dataset, downsampling is needed\n",
    "Rdata_ind, Qdata_ind, _, _ =train_test_split(range(Rdata.shape[0]), Rdata.obs['louvain'], test_size=0.3,random_state=1,stratify=Rdata.obs['louvain'])\n",
    "Rdata = Rdata[np.sort(Qdata_ind), :]\n",
    "\n",
    "Rdata_ind, Qdata_ind, _, _ =train_test_split(range(Qdata.shape[0]), Qdata.obs['louvain'], test_size=0.3,random_state=1,stratify=Qdata.obs['louvain'])\n",
    "Qdata = Qdata[np.sort(Qdata_ind), :]\n",
    "\n",
    "print((Rdata.shape, Qdata.shape))"
   ]
  },
  {
   "cell_type": "code",
   "execution_count": null,
   "metadata": {},
   "outputs": [],
   "source": [
    "datatrain = Rdata.copy()\n",
    "datatest = Qdata.copy()\n",
    "\n",
    "random.seed(2021)\n",
    "torch.manual_seed(2021)\n",
    "np.random.seed(2021)\n",
    "## Running novosparc\n",
    "locations_apriori = datatrain.obs[['x_cord', 'y_cord']].values\n",
    "tissue = ns.cm.Tissue(dataset=datatest, locations=locations_apriori)\n",
    "num_neighbors_s = num_neighbors_t = 5\n",
    "\n",
    "# params for linear cost\n",
    "atlas_genes = datatrain.var\n",
    "markers = list(atlas_genes.index)\n",
    "num_genes = len(markers)\n",
    "atlas_matrix = datatrain.to_df().values\n",
    "markers_idx = pd.DataFrame({'markers_idx': np.arange(num_genes)}, index=markers)\n",
    "markers_to_use = np.concatenate(markers_idx.loc[markers].values)"
   ]
  },
  {
   "cell_type": "code",
   "execution_count": null,
   "metadata": {},
   "outputs": [],
   "source": [
    "tissue.setup_reconstruction(atlas_matrix=atlas_matrix, \n",
    "                        markers_to_use=markers_to_use, \n",
    "                        num_neighbors_s=num_neighbors_s, \n",
    "                        num_neighbors_t=num_neighbors_t)\n",
    "        \n",
    "tissue.reconstruct(alpha_linear=0.8, epsilon=5e-3)\n",
    "\n",
    "location_pred = tissue.gw"
   ]
  },
  {
   "cell_type": "code",
   "execution_count": null,
   "metadata": {},
   "outputs": [],
   "source": [
    "location_sum = np.sum(location_pred, axis=1)\n",
    "location_pred_copy = location_pred / location_sum.reshape(len(location_sum), 1)\n",
    "\n",
    "pred_cord_transform = location_pred_copy.dot(np.array(Rdata.obs[['x_cord', 'y_cord']]))\n",
    "np.save(\"output/liver/novosparc_liver.npy\", pred_cord_transform)"
   ]
  },
  {
   "cell_type": "code",
   "execution_count": null,
   "metadata": {},
   "outputs": [],
   "source": []
  }
 ],
 "metadata": {
  "kernelspec": {
   "display_name": "Python 3",
   "language": "python",
   "name": "python3"
  },
  "language_info": {
   "name": "python",
   "version": "3.10.8 (main, Oct 13 2022, 10:17:43) [Clang 14.0.0 (clang-1400.0.29.102)]"
  },
  "orig_nbformat": 4,
  "vscode": {
   "interpreter": {
    "hash": "aee8b7b246df8f9039afb4144a1f6fd8d2ca17a180786b69acc140d282b71a49"
   }
  }
 },
 "nbformat": 4,
 "nbformat_minor": 2
}

{
 "cells": [
  {
   "cell_type": "markdown",
   "id": "neural-cyprus",
   "metadata": {},
   "source": [
    "# Tangram Analysis: 2D Coordinates Recovery of Single Cells\n",
    "\n",
    "## Xenium Breast Cancer, InSitu Replicate 1\n",
    "\n",
    "https://www.10xgenomics.com/products/xenium-in-situ/human-breast-dataset-explorer\n",
    "\n"
   ]
  },
  {
   "cell_type": "markdown",
   "id": "utility-pension",
   "metadata": {},
   "source": [
    "### 1. Import packages"
   ]
  },
  {
   "cell_type": "code",
   "execution_count": 60,
   "id": "heated-accreditation",
   "metadata": {},
   "outputs": [],
   "source": [
    "import os,csv,re\n",
    "import pandas as pd\n",
    "import numpy as np\n",
    "\n",
    "import math\n",
    "from sklearn.cluster import KMeans\n",
    "\n",
    "from scipy.sparse import issparse\n",
    "import random, torch\n",
    "import warnings\n",
    "warnings.filterwarnings(\"ignore\")\n",
    "import matplotlib.colors as clr\n",
    "import matplotlib.pyplot as plt\n",
    "import pickle\n",
    "\n",
    "#Read original data and save it to h5ad\n",
    "import scanpy as sc\n",
    "from scanpy import read_10x_h5\n",
    "from scanpy import read_h5ad\n",
    "\n",
    "import tangram as tg"
   ]
  },
  {
   "cell_type": "code",
   "execution_count": 2,
   "id": "younger-floor",
   "metadata": {},
   "outputs": [
    {
     "data": {
      "text/plain": [
       "'1.0.3'"
      ]
     },
     "execution_count": 2,
     "metadata": {},
     "output_type": "execute_result"
    }
   ],
   "source": [
    "tg.__version__"
   ]
  },
  {
   "cell_type": "code",
   "execution_count": null,
   "id": "improving-pizza",
   "metadata": {},
   "outputs": [],
   "source": [
    "import sys\n",
    "sys.path.append('/lustre03/project/6075067/calcium/2021/CeLEry/CeLEry_package')\n",
    "\n",
    "import CeLEry as cel"
   ]
  },
  {
   "cell_type": "code",
   "execution_count": 4,
   "id": "aging-helena",
   "metadata": {},
   "outputs": [],
   "source": [
    "def make_annData_spatial (adata, spatial, min_cells = 3, filtered = False):\n",
    "    \"\"\" \n",
    "    adata: an annData file for the transcriptomics data\n",
    "    spatial: an pandas dataframe recording the location information for each spot\n",
    "    \"\"\"\n",
    "    if filtered == False:\n",
    "        adata.obs[\"select\"] = spatial[1]\n",
    "        adata.obs[\"x_cord\"] = spatial[2]\n",
    "        adata.obs[\"y_cord\"] = spatial[3]\n",
    "        adata.obs[\"x_pixel\"] = spatial[4]\n",
    "        adata.obs[\"y_pixel\"] = spatial[5]\n",
    "        # Select captured samples\n",
    "        adata = adata[adata.obs[\"select\"] == 1]\n",
    "    else:\n",
    "        spatialsub = spatial[spatial.iloc[:,0] == 1]\n",
    "        adata.obs = adata.obs.join(spatialsub)\n",
    "        adata.obs.columns = ['select', 'x_cord', 'y_cord', 'x_pixel', 'y_pixel']\n",
    "    adata.var_names = [i.upper() for i in list(adata.var_names)]\n",
    "    adata.var[\"genename\"] = adata.var.index.astype(\"str\")\n",
    "    #\n",
    "    adata.var_names_make_unique()\n",
    "    prefilter_genes(adata, min_cells=min_cells) # avoiding all genes are zeros\n",
    "    prefilter_specialgenes(adata)\n",
    "    #Normalize and take log for UMI\n",
    "    #sc.pp.normalize_per_cell(adata)\n",
    "    #sc.pp.log1p(adata)\n",
    "    return adata"
   ]
  },
  {
   "cell_type": "code",
   "execution_count": 5,
   "id": "hindu-warning",
   "metadata": {},
   "outputs": [],
   "source": [
    "def prefilter_genes(adata,min_counts=None,max_counts=None,min_cells=10,max_cells=None):\n",
    "    if min_cells is None and min_counts is None and max_cells is None and max_counts is None:\n",
    "        raise ValueError('Provide one of min_counts, min_genes, max_counts or max_genes.')\n",
    "    id_tmp=np.asarray([True]*adata.shape[1],dtype=bool)\n",
    "    id_tmp=np.logical_and(id_tmp,sc.pp.filter_genes(adata.X,min_cells=min_cells)[0]) if min_cells is not None  else id_tmp\n",
    "    id_tmp=np.logical_and(id_tmp,sc.pp.filter_genes(adata.X,max_cells=max_cells)[0]) if max_cells is not None  else id_tmp\n",
    "    id_tmp=np.logical_and(id_tmp,sc.pp.filter_genes(adata.X,min_counts=min_counts)[0]) if min_counts is not None  else id_tmp\n",
    "    id_tmp=np.logical_and(id_tmp,sc.pp.filter_genes(adata.X,max_counts=max_counts)[0]) if max_counts is not None  else id_tmp\n",
    "    adata._inplace_subset_var(id_tmp)"
   ]
  },
  {
   "cell_type": "code",
   "execution_count": 6,
   "id": "dietary-calculation",
   "metadata": {},
   "outputs": [],
   "source": [
    "def prefilter_specialgenes(adata,Gene1Pattern=\"ERCC\",Gene2Pattern=\"MT-\"):\n",
    "    id_tmp1=np.asarray([not str(name).startswith(Gene1Pattern) for name in adata.var_names],dtype=bool)\n",
    "    id_tmp2=np.asarray([not str(name).startswith(Gene2Pattern) for name in adata.var_names],dtype=bool)\n",
    "    id_tmp=np.logical_and(id_tmp1,id_tmp2)\n",
    "    adata._inplace_subset_var(id_tmp)"
   ]
  },
  {
   "cell_type": "markdown",
   "id": "lucky-jungle",
   "metadata": {},
   "source": [
    "### 2. Load data:"
   ]
  },
  {
   "cell_type": "code",
   "execution_count": 7,
   "id": "stuffed-settlement",
   "metadata": {},
   "outputs": [],
   "source": [
    "# cells to be filtered out based on total UMI and number of genes expressed\n",
    "os.chdir(\"\")\n",
    "lowUMI_cellID = pd.read_csv(\"cell_ID_toRemove_filtered_75_25.csv\",sep=\",\",na_filter=False,index_col=0)"
   ]
  },
  {
   "cell_type": "code",
   "execution_count": 8,
   "id": "interstate-trace",
   "metadata": {},
   "outputs": [],
   "source": [
    "#Read in gene expression and spatial location\n",
    "os.chdir(\"\")\n",
    "adata = read_10x_h5(\"Xenium_FFPE_Human_Breast_Cancer_Rep1_cell_feature_matrix.h5\")\n",
    "spatial_full = pd.read_csv(\"Xenium_FFPE_Human_Breast_Cancer_Rep1_cells.csv\",sep=\",\",na_filter=False,index_col=0)"
   ]
  },
  {
   "cell_type": "code",
   "execution_count": 9,
   "id": "future-stable",
   "metadata": {},
   "outputs": [],
   "source": [
    "os.chdir(\"\") #scheme 4\n",
    "\n",
    "train_index = pd.read_csv(\"trainCell_index.csv\",sep=\",\")\n",
    "test_index = pd.read_csv(\"testCell_index.csv\",sep=\",\")\n",
    "\n",
    "train_index = list(train_index.iloc[:,1])\n",
    "test_index = list(test_index.iloc[:,1])"
   ]
  },
  {
   "cell_type": "code",
   "execution_count": 14,
   "id": "random-elephant",
   "metadata": {},
   "outputs": [
    {
     "data": {
      "text/html": [
       "<div>\n",
       "<style scoped>\n",
       "    .dataframe tbody tr th:only-of-type {\n",
       "        vertical-align: middle;\n",
       "    }\n",
       "\n",
       "    .dataframe tbody tr th {\n",
       "        vertical-align: top;\n",
       "    }\n",
       "\n",
       "    .dataframe thead th {\n",
       "        text-align: right;\n",
       "    }\n",
       "</style>\n",
       "<table border=\"1\" class=\"dataframe\">\n",
       "  <thead>\n",
       "    <tr style=\"text-align: right;\">\n",
       "      <th></th>\n",
       "      <th>x_centroid</th>\n",
       "      <th>y_centroid</th>\n",
       "      <th>transcript_counts</th>\n",
       "      <th>control_probe_counts</th>\n",
       "      <th>control_codeword_counts</th>\n",
       "      <th>total_counts</th>\n",
       "      <th>cell_area</th>\n",
       "      <th>nucleus_area</th>\n",
       "    </tr>\n",
       "    <tr>\n",
       "      <th>cell_id</th>\n",
       "      <th></th>\n",
       "      <th></th>\n",
       "      <th></th>\n",
       "      <th></th>\n",
       "      <th></th>\n",
       "      <th></th>\n",
       "      <th></th>\n",
       "      <th></th>\n",
       "    </tr>\n",
       "  </thead>\n",
       "  <tbody>\n",
       "    <tr>\n",
       "      <th>1</th>\n",
       "      <td>377.663005</td>\n",
       "      <td>843.541888</td>\n",
       "      <td>154</td>\n",
       "      <td>0</td>\n",
       "      <td>0</td>\n",
       "      <td>154</td>\n",
       "      <td>110.361875</td>\n",
       "      <td>45.562656</td>\n",
       "    </tr>\n",
       "    <tr>\n",
       "      <th>2</th>\n",
       "      <td>382.078658</td>\n",
       "      <td>858.944818</td>\n",
       "      <td>64</td>\n",
       "      <td>0</td>\n",
       "      <td>0</td>\n",
       "      <td>64</td>\n",
       "      <td>87.919219</td>\n",
       "      <td>24.248906</td>\n",
       "    </tr>\n",
       "    <tr>\n",
       "      <th>3</th>\n",
       "      <td>319.839529</td>\n",
       "      <td>869.196542</td>\n",
       "      <td>57</td>\n",
       "      <td>0</td>\n",
       "      <td>0</td>\n",
       "      <td>57</td>\n",
       "      <td>52.561875</td>\n",
       "      <td>23.526406</td>\n",
       "    </tr>\n",
       "    <tr>\n",
       "      <th>4</th>\n",
       "      <td>259.304707</td>\n",
       "      <td>851.797949</td>\n",
       "      <td>120</td>\n",
       "      <td>0</td>\n",
       "      <td>0</td>\n",
       "      <td>120</td>\n",
       "      <td>75.230312</td>\n",
       "      <td>35.176719</td>\n",
       "    </tr>\n",
       "    <tr>\n",
       "      <th>5</th>\n",
       "      <td>370.576291</td>\n",
       "      <td>865.193024</td>\n",
       "      <td>120</td>\n",
       "      <td>0</td>\n",
       "      <td>0</td>\n",
       "      <td>120</td>\n",
       "      <td>180.218594</td>\n",
       "      <td>34.499375</td>\n",
       "    </tr>\n",
       "    <tr>\n",
       "      <th>...</th>\n",
       "      <td>...</td>\n",
       "      <td>...</td>\n",
       "      <td>...</td>\n",
       "      <td>...</td>\n",
       "      <td>...</td>\n",
       "      <td>...</td>\n",
       "      <td>...</td>\n",
       "      <td>...</td>\n",
       "    </tr>\n",
       "    <tr>\n",
       "      <th>167778</th>\n",
       "      <td>7455.404785</td>\n",
       "      <td>5115.021094</td>\n",
       "      <td>238</td>\n",
       "      <td>1</td>\n",
       "      <td>0</td>\n",
       "      <td>239</td>\n",
       "      <td>219.956094</td>\n",
       "      <td>61.412500</td>\n",
       "    </tr>\n",
       "    <tr>\n",
       "      <th>167779</th>\n",
       "      <td>7483.771045</td>\n",
       "      <td>5111.720703</td>\n",
       "      <td>80</td>\n",
       "      <td>0</td>\n",
       "      <td>0</td>\n",
       "      <td>80</td>\n",
       "      <td>38.427969</td>\n",
       "      <td>25.964844</td>\n",
       "    </tr>\n",
       "    <tr>\n",
       "      <th>167780</th>\n",
       "      <td>7470.119580</td>\n",
       "      <td>5119.350366</td>\n",
       "      <td>406</td>\n",
       "      <td>0</td>\n",
       "      <td>0</td>\n",
       "      <td>406</td>\n",
       "      <td>287.690469</td>\n",
       "      <td>86.158125</td>\n",
       "    </tr>\n",
       "    <tr>\n",
       "      <th>167781</th>\n",
       "      <td>7477.704004</td>\n",
       "      <td>5128.963086</td>\n",
       "      <td>120</td>\n",
       "      <td>0</td>\n",
       "      <td>0</td>\n",
       "      <td>120</td>\n",
       "      <td>235.670469</td>\n",
       "      <td>25.016563</td>\n",
       "    </tr>\n",
       "    <tr>\n",
       "      <th>167782</th>\n",
       "      <td>7489.376562</td>\n",
       "      <td>5123.402393</td>\n",
       "      <td>393</td>\n",
       "      <td>0</td>\n",
       "      <td>0</td>\n",
       "      <td>393</td>\n",
       "      <td>269.447344</td>\n",
       "      <td>111.445625</td>\n",
       "    </tr>\n",
       "  </tbody>\n",
       "</table>\n",
       "<p>167782 rows × 8 columns</p>\n",
       "</div>"
      ],
      "text/plain": [
       "          x_centroid   y_centroid  transcript_counts  control_probe_counts  \\\n",
       "cell_id                                                                      \n",
       "1         377.663005   843.541888                154                     0   \n",
       "2         382.078658   858.944818                 64                     0   \n",
       "3         319.839529   869.196542                 57                     0   \n",
       "4         259.304707   851.797949                120                     0   \n",
       "5         370.576291   865.193024                120                     0   \n",
       "...              ...          ...                ...                   ...   \n",
       "167778   7455.404785  5115.021094                238                     1   \n",
       "167779   7483.771045  5111.720703                 80                     0   \n",
       "167780   7470.119580  5119.350366                406                     0   \n",
       "167781   7477.704004  5128.963086                120                     0   \n",
       "167782   7489.376562  5123.402393                393                     0   \n",
       "\n",
       "         control_codeword_counts  total_counts   cell_area  nucleus_area  \n",
       "cell_id                                                                   \n",
       "1                              0           154  110.361875     45.562656  \n",
       "2                              0            64   87.919219     24.248906  \n",
       "3                              0            57   52.561875     23.526406  \n",
       "4                              0           120   75.230312     35.176719  \n",
       "5                              0           120  180.218594     34.499375  \n",
       "...                          ...           ...         ...           ...  \n",
       "167778                         0           239  219.956094     61.412500  \n",
       "167779                         0            80   38.427969     25.964844  \n",
       "167780                         0           406  287.690469     86.158125  \n",
       "167781                         0           120  235.670469     25.016563  \n",
       "167782                         0           393  269.447344    111.445625  \n",
       "\n",
       "[167782 rows x 8 columns]"
      ]
     },
     "execution_count": 14,
     "metadata": {},
     "output_type": "execute_result"
    }
   ],
   "source": [
    "spatial_full"
   ]
  },
  {
   "cell_type": "code",
   "execution_count": 15,
   "id": "instrumental-shell",
   "metadata": {},
   "outputs": [],
   "source": [
    "# The pixel size of Xenium 0.2125 microns. \n",
    "# Coordinates in microns from cells.csv.gz can be converted to pixel coordinates \n",
    "# by dividing by the pixel size. The origin of the coordinate system is the upper left of the TIFF image.\n",
    "\n",
    "\n",
    "pixel_size = 0.2125\n",
    "\n",
    "spatial = pd.DataFrame()\n",
    "spatial['0'] = spatial_full.x_centroid\n",
    "spatial['1'] = [1] * 167782\n",
    "spatial['2'] = spatial_full.x_centroid\n",
    "spatial['3'] = spatial_full.y_centroid \n",
    "spatial['4'] = spatial_full.x_centroid / pixel_size\n",
    "spatial['5'] = spatial_full.y_centroid / pixel_size\n",
    "\n",
    "b = ['CellID '] * 167782\n",
    "a = list(range(1,167783))\n",
    "\n",
    "#spatial.index = [m+str(n) for m,n in zip(b,a)]\n",
    "\n",
    "spatial.index = spatial.index.astype('str')\n",
    "\n",
    "\n",
    "spatial = spatial.drop(['0'], axis = 1)\n",
    "spatial.index.name = '0'\n",
    "spatial.columns = spatial.columns.astype('int64')\n",
    "spatial = spatial.astype('int64')\n",
    "\n",
    "adata.obs_names = spatial.index.astype('str')"
   ]
  },
  {
   "cell_type": "code",
   "execution_count": 20,
   "id": "regional-alabama",
   "metadata": {},
   "outputs": [
    {
     "data": {
      "text/plain": [
       "AnnData object with n_obs × n_vars = 167782 × 313\n",
       "    obs: 'select', 'x_cord', 'y_cord', 'x_pixel', 'y_pixel'\n",
       "    var: 'gene_ids', 'feature_types', 'genome', 'genename'"
      ]
     },
     "execution_count": 20,
     "metadata": {},
     "output_type": "execute_result"
    }
   ],
   "source": [
    "TrainDatafull = make_annData_spatial(adata.copy(), spatial, filtered = True)\n",
    "TrainDatafull.var['genename'] = TrainDatafull.var.gene_ids\n",
    "\n",
    "TrainDatafull"
   ]
  },
  {
   "cell_type": "markdown",
   "id": "dominant-capacity",
   "metadata": {},
   "source": [
    "### 3. Filter out cells with low UMI and low number of genes expressed"
   ]
  },
  {
   "cell_type": "code",
   "execution_count": 25,
   "id": "legitimate-value",
   "metadata": {},
   "outputs": [
    {
     "data": {
      "text/plain": [
       "View of AnnData object with n_obs × n_vars = 42228 × 313\n",
       "    obs: 'select', 'x_cord', 'y_cord', 'x_pixel', 'y_pixel'\n",
       "    var: 'gene_ids', 'feature_types', 'genome', 'genename'"
      ]
     },
     "execution_count": 25,
     "metadata": {},
     "output_type": "execute_result"
    }
   ],
   "source": [
    "os.chdir(\"\")\n",
    "TrainDatafull.obs_names = TrainDatafull.obs_names.astype(np.int64) \n",
    "TrainDatafull_filtered = TrainDatafull.copy()[~TrainDatafull.obs_names.isin(lowUMI_cellID.x), :]\n",
    "TrainDatafull_filtered"
   ]
  },
  {
   "cell_type": "code",
   "execution_count": 27,
   "id": "ancient-interstate",
   "metadata": {},
   "outputs": [],
   "source": [
    "sc.pp.normalize_total(TrainDatafull_filtered)"
   ]
  },
  {
   "cell_type": "markdown",
   "id": "vocal-vulnerability",
   "metadata": {},
   "source": [
    "### 4. Split data into train and test data "
   ]
  },
  {
   "cell_type": "code",
   "execution_count": 30,
   "id": "considerable-robin",
   "metadata": {},
   "outputs": [],
   "source": [
    "### Spliting into training and testing data for prediction/evalutaiton:\n",
    "\n",
    "# split the data into training and testing data (90% train, 10% test)\n",
    "# making sure to use same sets across all methods (see CelERY script for generating random splits of the test/train data)\n",
    "\n",
    "train_index = np.array(train_index).astype('str')\n",
    "test_index = np.array(test_index).astype('str')\n",
    "\n",
    "# 90% train\n",
    "DataSubtrain90_coor = TrainDatafull_filtered[train_index,]\n",
    "\n",
    "# 10% holdoff\n",
    "DataSubtest10_coor = TrainDatafull_filtered[test_index,]\n"
   ]
  },
  {
   "cell_type": "code",
   "execution_count": 31,
   "id": "elect-freedom",
   "metadata": {},
   "outputs": [
    {
     "data": {
      "text/plain": [
       "View of AnnData object with n_obs × n_vars = 38006 × 313\n",
       "    obs: 'select', 'x_cord', 'y_cord', 'x_pixel', 'y_pixel'\n",
       "    var: 'gene_ids', 'feature_types', 'genome', 'genename'"
      ]
     },
     "execution_count": 31,
     "metadata": {},
     "output_type": "execute_result"
    }
   ],
   "source": [
    "DataSubtrain90_coor"
   ]
  },
  {
   "cell_type": "code",
   "execution_count": 32,
   "id": "beautiful-allen",
   "metadata": {},
   "outputs": [
    {
     "data": {
      "text/plain": [
       "View of AnnData object with n_obs × n_vars = 4222 × 313\n",
       "    obs: 'select', 'x_cord', 'y_cord', 'x_pixel', 'y_pixel'\n",
       "    var: 'gene_ids', 'feature_types', 'genome', 'genename'"
      ]
     },
     "execution_count": 32,
     "metadata": {},
     "output_type": "execute_result"
    }
   ],
   "source": [
    "DataSubtest10_coor"
   ]
  },
  {
   "cell_type": "code",
   "execution_count": 33,
   "id": "owned-bulgaria",
   "metadata": {},
   "outputs": [],
   "source": [
    "holdoff = 10\n",
    "dataSection1 = DataSubtrain90_coor \n",
    "dataSection2 = DataSubtest10_coor"
   ]
  },
  {
   "cell_type": "code",
   "execution_count": 34,
   "id": "outer-timber",
   "metadata": {},
   "outputs": [
    {
     "data": {
      "text/html": [
       "<div>\n",
       "<style scoped>\n",
       "    .dataframe tbody tr th:only-of-type {\n",
       "        vertical-align: middle;\n",
       "    }\n",
       "\n",
       "    .dataframe tbody tr th {\n",
       "        vertical-align: top;\n",
       "    }\n",
       "\n",
       "    .dataframe thead th {\n",
       "        text-align: right;\n",
       "    }\n",
       "</style>\n",
       "<table border=\"1\" class=\"dataframe\">\n",
       "  <thead>\n",
       "    <tr style=\"text-align: right;\">\n",
       "      <th></th>\n",
       "      <th>select</th>\n",
       "      <th>x_cord</th>\n",
       "      <th>y_cord</th>\n",
       "      <th>x_pixel</th>\n",
       "      <th>y_pixel</th>\n",
       "    </tr>\n",
       "    <tr>\n",
       "      <th>0</th>\n",
       "      <th></th>\n",
       "      <th></th>\n",
       "      <th></th>\n",
       "      <th></th>\n",
       "      <th></th>\n",
       "    </tr>\n",
       "  </thead>\n",
       "  <tbody>\n",
       "    <tr>\n",
       "      <th>7</th>\n",
       "      <td>1</td>\n",
       "      <td>296</td>\n",
       "      <td>856</td>\n",
       "      <td>1394</td>\n",
       "      <td>4031</td>\n",
       "    </tr>\n",
       "    <tr>\n",
       "      <th>32</th>\n",
       "      <td>1</td>\n",
       "      <td>277</td>\n",
       "      <td>856</td>\n",
       "      <td>1306</td>\n",
       "      <td>4029</td>\n",
       "    </tr>\n",
       "    <tr>\n",
       "      <th>54</th>\n",
       "      <td>1</td>\n",
       "      <td>182</td>\n",
       "      <td>852</td>\n",
       "      <td>856</td>\n",
       "      <td>4013</td>\n",
       "    </tr>\n",
       "    <tr>\n",
       "      <th>55</th>\n",
       "      <td>1</td>\n",
       "      <td>132</td>\n",
       "      <td>864</td>\n",
       "      <td>623</td>\n",
       "      <td>4069</td>\n",
       "    </tr>\n",
       "    <tr>\n",
       "      <th>59</th>\n",
       "      <td>1</td>\n",
       "      <td>148</td>\n",
       "      <td>843</td>\n",
       "      <td>696</td>\n",
       "      <td>3968</td>\n",
       "    </tr>\n",
       "    <tr>\n",
       "      <th>...</th>\n",
       "      <td>...</td>\n",
       "      <td>...</td>\n",
       "      <td>...</td>\n",
       "      <td>...</td>\n",
       "      <td>...</td>\n",
       "    </tr>\n",
       "    <tr>\n",
       "      <th>167761</th>\n",
       "      <td>1</td>\n",
       "      <td>7486</td>\n",
       "      <td>5212</td>\n",
       "      <td>35231</td>\n",
       "      <td>24531</td>\n",
       "    </tr>\n",
       "    <tr>\n",
       "      <th>167771</th>\n",
       "      <td>1</td>\n",
       "      <td>7458</td>\n",
       "      <td>5095</td>\n",
       "      <td>35099</td>\n",
       "      <td>23977</td>\n",
       "    </tr>\n",
       "    <tr>\n",
       "      <th>167772</th>\n",
       "      <td>1</td>\n",
       "      <td>7469</td>\n",
       "      <td>5093</td>\n",
       "      <td>35148</td>\n",
       "      <td>23970</td>\n",
       "    </tr>\n",
       "    <tr>\n",
       "      <th>167776</th>\n",
       "      <td>1</td>\n",
       "      <td>7446</td>\n",
       "      <td>5111</td>\n",
       "      <td>35041</td>\n",
       "      <td>24053</td>\n",
       "    </tr>\n",
       "    <tr>\n",
       "      <th>167777</th>\n",
       "      <td>1</td>\n",
       "      <td>7465</td>\n",
       "      <td>5108</td>\n",
       "      <td>35129</td>\n",
       "      <td>24037</td>\n",
       "    </tr>\n",
       "  </tbody>\n",
       "</table>\n",
       "<p>38006 rows × 5 columns</p>\n",
       "</div>"
      ],
      "text/plain": [
       "        select  x_cord  y_cord  x_pixel  y_pixel\n",
       "0                                               \n",
       "7            1     296     856     1394     4031\n",
       "32           1     277     856     1306     4029\n",
       "54           1     182     852      856     4013\n",
       "55           1     132     864      623     4069\n",
       "59           1     148     843      696     3968\n",
       "...        ...     ...     ...      ...      ...\n",
       "167761       1    7486    5212    35231    24531\n",
       "167771       1    7458    5095    35099    23977\n",
       "167772       1    7469    5093    35148    23970\n",
       "167776       1    7446    5111    35041    24053\n",
       "167777       1    7465    5108    35129    24037\n",
       "\n",
       "[38006 rows x 5 columns]"
      ]
     },
     "execution_count": 34,
     "metadata": {},
     "output_type": "execute_result"
    }
   ],
   "source": [
    "dataSection1.obs"
   ]
  },
  {
   "cell_type": "code",
   "execution_count": 35,
   "id": "incorrect-washer",
   "metadata": {},
   "outputs": [],
   "source": [
    "random.seed(2021)\n",
    "torch.manual_seed(2021)\n",
    "np.random.seed(2021)\n",
    "## For each cell  of the \"scRNA\", find the predicted location on Spatial map\n",
    "S1_xmax = dataSection1.obs['x_cord'].max() + 1\n",
    "S1_xmin = dataSection1.obs['x_cord'].min() - 1\n",
    "S1_ymax = dataSection1.obs['y_cord'].max() + 1\n",
    "S1_ymin = dataSection1.obs['y_cord'].min() - 1\n",
    "#\n",
    "S2_xmax = dataSection2.obs['x_cord'].max() + 1\n",
    "S2_xmin = dataSection2.obs['x_cord'].min() - 1\n",
    "S2_ymax = dataSection2.obs['y_cord'].max() + 1\n",
    "S2_ymin = dataSection2.obs['y_cord'].min() - 1\n"
   ]
  },
  {
   "cell_type": "code",
   "execution_count": 36,
   "id": "alleged-complement",
   "metadata": {},
   "outputs": [],
   "source": [
    "dataSection1.obs['x'] = dataSection1.obs['x_cord']\n",
    "dataSection1.obs['y'] = dataSection1.obs['y_cord']\n",
    "\n",
    "dataSection2.obs['x'] = dataSection2.obs['x_cord']\n",
    "dataSection2.obs['y'] = dataSection2.obs['y_cord']"
   ]
  },
  {
   "cell_type": "code",
   "execution_count": 37,
   "id": "exact-exposure",
   "metadata": {},
   "outputs": [],
   "source": [
    "dataSection1.X = dataSection1.X.toarray()\n",
    "dataSection2.X = dataSection2.X.toarray()"
   ]
  },
  {
   "cell_type": "markdown",
   "id": "several-keyboard",
   "metadata": {},
   "source": [
    "### 5. Run Tangram"
   ]
  },
  {
   "cell_type": "code",
   "execution_count": 38,
   "id": "blank-lodge",
   "metadata": {},
   "outputs": [
    {
     "name": "stderr",
     "output_type": "stream",
     "text": [
      "INFO:root:313 training genes are saved in `uns``training_genes` of both single cell and spatial Anndatas.\n",
      "INFO:root:313 overlapped genes are saved in `uns``overlap_genes` of both single cell and spatial Anndatas.\n",
      "INFO:root:uniform based density prior is calculated and saved in `obs``uniform_density` of the spatial Anndata.\n",
      "INFO:root:rna count based density prior is calculated and saved in `obs``rna_count_based_density` of the spatial Anndata.\n"
     ]
    }
   ],
   "source": [
    "## Map Section 2 data into Section 1 data\n",
    "tg.pp_adatas(dataSection2, dataSection1, genes=None) #genes = 'None' uses all overlapping genes"
   ]
  },
  {
   "cell_type": "code",
   "execution_count": 39,
   "id": "congressional-hunger",
   "metadata": {},
   "outputs": [
    {
     "data": {
      "text/plain": [
       "AnnData object with n_obs × n_vars = 38006 × 313\n",
       "    obs: 'select', 'x_cord', 'y_cord', 'x_pixel', 'y_pixel', 'x', 'y', 'uniform_density', 'rna_count_based_density'\n",
       "    var: 'gene_ids', 'feature_types', 'genome', 'genename', 'n_cells'\n",
       "    uns: 'training_genes', 'overlap_genes'"
      ]
     },
     "execution_count": 39,
     "metadata": {},
     "output_type": "execute_result"
    }
   ],
   "source": [
    "dataSection1"
   ]
  },
  {
   "cell_type": "code",
   "execution_count": 40,
   "id": "allied-crisis",
   "metadata": {},
   "outputs": [
    {
     "data": {
      "text/plain": [
       "AnnData object with n_obs × n_vars = 4222 × 313\n",
       "    obs: 'select', 'x_cord', 'y_cord', 'x_pixel', 'y_pixel', 'x', 'y'\n",
       "    var: 'gene_ids', 'feature_types', 'genome', 'genename', 'n_cells'\n",
       "    uns: 'training_genes', 'overlap_genes'"
      ]
     },
     "execution_count": 40,
     "metadata": {},
     "output_type": "execute_result"
    }
   ],
   "source": [
    "dataSection2"
   ]
  },
  {
   "cell_type": "code",
   "execution_count": 41,
   "id": "automotive-remains",
   "metadata": {},
   "outputs": [],
   "source": [
    "# remove extra data stored \n",
    "\n",
    "del adata\n",
    "del TrainDatafull_filtered\n",
    "del TrainDatafull"
   ]
  },
  {
   "cell_type": "code",
   "execution_count": 42,
   "id": "existing-midwest",
   "metadata": {
    "scrolled": true
   },
   "outputs": [
    {
     "name": "stderr",
     "output_type": "stream",
     "text": [
      "INFO:root:Allocate tensors for mapping.\n",
      "INFO:root:Begin training with 313 genes and rna_count_based density_prior in cells mode...\n",
      "INFO:root:Printing scores every 100 epochs.\n"
     ]
    },
    {
     "name": "stdout",
     "output_type": "stream",
     "text": [
      "Score: 0.370, KL reg: 0.000\n",
      "Score: 0.812, KL reg: 0.001\n",
      "Score: 0.828, KL reg: 0.001\n",
      "Score: 0.833, KL reg: 0.001\n",
      "Score: 0.835, KL reg: 0.001\n",
      "Score: 0.836, KL reg: 0.001\n",
      "Score: 0.837, KL reg: 0.001\n",
      "Score: 0.838, KL reg: 0.001\n",
      "Score: 0.838, KL reg: 0.001\n",
      "Score: 0.839, KL reg: 0.001\n"
     ]
    },
    {
     "name": "stderr",
     "output_type": "stream",
     "text": [
      "INFO:root:Saving results..\n"
     ]
    }
   ],
   "source": [
    "my_map = tg.map_cells_to_space(dataSection2, dataSection1, device='cpu')"
   ]
  },
  {
   "cell_type": "code",
   "execution_count": 43,
   "id": "extensive-slope",
   "metadata": {},
   "outputs": [
    {
     "data": {
      "text/plain": [
       "array([[3.47447468e-07, 8.47554134e-08, 4.20595327e-08, ...,\n",
       "        4.98230470e-08, 2.28130133e-07, 3.31897951e-07],\n",
       "       [2.65370144e-08, 1.88062224e-08, 7.73048185e-08, ...,\n",
       "        4.24695266e-08, 3.46192088e-08, 2.50979433e-08],\n",
       "       [4.19942232e-08, 2.16521883e-07, 4.42786018e-07, ...,\n",
       "        9.31636279e-08, 8.59325837e-08, 3.18603774e-08],\n",
       "       ...,\n",
       "       [9.09421427e-09, 5.65438647e-08, 1.32963223e-07, ...,\n",
       "        1.19906517e-07, 2.15304198e-07, 1.49662313e-07],\n",
       "       [1.08431792e-07, 5.47239019e-08, 3.32501138e-08, ...,\n",
       "        1.57167094e-07, 1.45778714e-08, 1.08034705e-07],\n",
       "       [8.47946410e-07, 4.36577807e-07, 3.32183163e-07, ...,\n",
       "        3.01479076e-07, 3.90627122e-08, 3.79818289e-07]], dtype=float32)"
      ]
     },
     "execution_count": 43,
     "metadata": {},
     "output_type": "execute_result"
    }
   ],
   "source": [
    "my_map.X"
   ]
  },
  {
   "cell_type": "code",
   "execution_count": 45,
   "id": "specific-database",
   "metadata": {},
   "outputs": [],
   "source": [
    "my_map.write_h5ad(\"\")\n"
   ]
  },
  {
   "cell_type": "code",
   "execution_count": 65,
   "id": "skilled-mistress",
   "metadata": {},
   "outputs": [
    {
     "data": {
      "text/plain": [
       "(4222, 38006)"
      ]
     },
     "execution_count": 65,
     "metadata": {},
     "output_type": "execute_result"
    }
   ],
   "source": [
    "my_map.X.shape"
   ]
  },
  {
   "cell_type": "markdown",
   "id": "certified-lodge",
   "metadata": {},
   "source": [
    "## Expected position:"
   ]
  },
  {
   "cell_type": "code",
   "execution_count": 68,
   "id": "collectible-integer",
   "metadata": {},
   "outputs": [],
   "source": [
    "location_sum = np.sum(my_map.X, axis=1)\n",
    "location_pred_copy = my_map.X / location_sum.reshape(len(location_sum), 1)\n",
    "pred_cord_transform = location_pred_copy.dot(np.array(dataSection1.obs[['x_cord', 'y_cord']]))"
   ]
  },
  {
   "cell_type": "code",
   "execution_count": 69,
   "id": "municipal-simulation",
   "metadata": {},
   "outputs": [
    {
     "data": {
      "text/plain": [
       "array([[1890.31349158, 1991.05099866],\n",
       "       [1767.19793308, 2810.41723462],\n",
       "       [3467.17504933, 2294.02249064],\n",
       "       ...,\n",
       "       [3304.45497392, 2690.07885881],\n",
       "       [2078.97792889, 2114.22753106],\n",
       "       [2292.99099974, 2176.92317405]])"
      ]
     },
     "execution_count": 69,
     "metadata": {},
     "output_type": "execute_result"
    }
   ],
   "source": [
    "pred_cord_transform"
   ]
  },
  {
   "cell_type": "code",
   "execution_count": 71,
   "id": "identical-things",
   "metadata": {},
   "outputs": [
    {
     "data": {
      "text/plain": [
       "array([[1.        , 0.76361513],\n",
       "       [0.76361513, 1.        ]])"
      ]
     },
     "execution_count": 71,
     "metadata": {},
     "output_type": "execute_result"
    }
   ],
   "source": [
    "#pd.cor(pred_cord_transform[0:,], datatest.obs['x_cord'])\n",
    "\n",
    "np.corrcoef(pred_cord_transform[:,0],dataSection2.obs['x_cord'])"
   ]
  },
  {
   "cell_type": "code",
   "execution_count": 72,
   "id": "atmospheric-strength",
   "metadata": {},
   "outputs": [
    {
     "data": {
      "text/plain": [
       "array([[1.        , 0.51205401],\n",
       "       [0.51205401, 1.        ]])"
      ]
     },
     "execution_count": 72,
     "metadata": {},
     "output_type": "execute_result"
    }
   ],
   "source": [
    "np.corrcoef(pred_cord_transform[:,1],dataSection2.obs['y_cord'])"
   ]
  }
 ],
 "metadata": {
  "kernelspec": {
   "display_name": "tangram",
   "language": "python",
   "name": "tangram"
  },
  "language_info": {
   "codemirror_mode": {
    "name": "ipython",
    "version": 3
   },
   "file_extension": ".py",
   "mimetype": "text/x-python",
   "name": "python",
   "nbconvert_exporter": "python",
   "pygments_lexer": "ipython3",
   "version": "3.8.15"
  }
 },
 "nbformat": 4,
 "nbformat_minor": 5
}

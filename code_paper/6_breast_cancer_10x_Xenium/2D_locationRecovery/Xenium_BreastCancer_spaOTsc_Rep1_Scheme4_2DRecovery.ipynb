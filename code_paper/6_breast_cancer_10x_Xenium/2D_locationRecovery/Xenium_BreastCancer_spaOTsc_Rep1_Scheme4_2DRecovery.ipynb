{
 "cells": [
  {
   "cell_type": "markdown",
   "id": "looking-worst",
   "metadata": {},
   "source": [
    "# spaOTsc Analysis: 2D Coordinates Recovery of Single Cells\n",
    "\n",
    "## Xenium Breast Cancer, InSitu Replicate 1\n",
    "\n",
    "https://www.10xgenomics.com/products/xenium-in-situ/human-breast-dataset-explorer\n"
   ]
  },
  {
   "cell_type": "markdown",
   "id": "careful-saint",
   "metadata": {},
   "source": [
    "### 1. Import packages"
   ]
  },
  {
   "cell_type": "code",
   "execution_count": 1,
   "id": "4bc67068-5bef-46d5-8997-a614b8533653",
   "metadata": {},
   "outputs": [],
   "source": [
    "# imports\n",
    "import novosparc as ns\n",
    "\n",
    "import os\n",
    "import numpy as np\n",
    "import pandas as pd\n",
    "import scanpy as sc\n",
    "import matplotlib.pyplot as plt\n",
    "import altair as alt\n",
    "from scipy.spatial.distance import cdist, squareform, pdist\n",
    "from scipy.stats import ks_2samp\n",
    "from scipy.stats import pearsonr\n",
    "from scanpy import read_10x_h5\n",
    "import random\n"
   ]
  },
  {
   "cell_type": "code",
   "execution_count": 2,
   "id": "74c234ff-e053-4e1b-8c7f-70f3957e931a",
   "metadata": {},
   "outputs": [],
   "source": [
    "import cv2 as cv\n",
    "from skimage import io, color\n",
    "import torch\n",
    "from torch.nn import functional as F\n",
    "import json"
   ]
  },
  {
   "cell_type": "code",
   "execution_count": 3,
   "id": "partial-blast",
   "metadata": {},
   "outputs": [],
   "source": [
    "import os,csv,re\n",
    "import math\n",
    "from skimage import io, color\n",
    "\n",
    "from scipy.sparse import issparse\n",
    "import random, torch\n",
    "import warnings\n",
    "warnings.filterwarnings(\"ignore\")\n",
    "import pickle\n",
    "from sklearn.model_selection import train_test_split\n",
    "from anndata import AnnData, read_h5ad\n",
    "import seaborn as sns\n",
    "\n",
    "import json\n",
    "\n",
    "import dit\n",
    "from dit import pid\n",
    "from spaotsc import SpaOTsc"
   ]
  },
  {
   "cell_type": "code",
   "execution_count": null,
   "id": "efb06266-ee91-4c07-bf70-c2842d85c5bd",
   "metadata": {},
   "outputs": [],
   "source": [
    "import sys\n",
    "sys.path.append('/Users/ameliaschroeder/CeLEry/CeLEry_package')\n",
    "\n",
    "import CeLEry as cel"
   ]
  },
  {
   "cell_type": "markdown",
   "id": "a66e71d5-c12d-47a4-b99b-78519fe6190b",
   "metadata": {},
   "source": [
    "### 2. Load data"
   ]
  },
  {
   "cell_type": "code",
   "execution_count": 7,
   "id": "mature-recipient",
   "metadata": {},
   "outputs": [],
   "source": [
    "# cells to be filtered out based on total UMI and number of genes expressed\n",
    "os.chdir(\"\")\n",
    "lowUMI_cellID = pd.read_csv(\"cell_ID_toRemove_filtered_75_25.csv\",sep=\",\",na_filter=False,index_col=0)"
   ]
  },
  {
   "cell_type": "code",
   "execution_count": 8,
   "id": "commercial-tissue",
   "metadata": {},
   "outputs": [],
   "source": [
    "#Read in gene expression and spatial location\n",
    "os.chdir(\"\")\n",
    "adata = read_10x_h5(\"Xenium_FFPE_Human_Breast_Cancer_Rep1_cell_feature_matrix.h5\")\n",
    "spatial_full = pd.read_csv(\"Xenium_FFPE_Human_Breast_Cancer_Rep1_cells.csv\",sep=\",\",na_filter=False,index_col=0)"
   ]
  },
  {
   "cell_type": "code",
   "execution_count": 9,
   "id": "graduate-course",
   "metadata": {},
   "outputs": [],
   "source": [
    "os.chdir(\"\") #scheme 4\n",
    "\n",
    "train_index = pd.read_csv(\"trainCell_index.csv\",sep=\",\")\n",
    "test_index = pd.read_csv(\"testCell_index.csv\",sep=\",\")\n",
    "\n",
    "train_index = list(train_index.iloc[:,1])\n",
    "test_index = list(test_index.iloc[:,1])"
   ]
  },
  {
   "cell_type": "code",
   "execution_count": 12,
   "id": "final-routine",
   "metadata": {},
   "outputs": [
    {
     "data": {
      "text/html": [
       "<div>\n",
       "<style scoped>\n",
       "    .dataframe tbody tr th:only-of-type {\n",
       "        vertical-align: middle;\n",
       "    }\n",
       "\n",
       "    .dataframe tbody tr th {\n",
       "        vertical-align: top;\n",
       "    }\n",
       "\n",
       "    .dataframe thead th {\n",
       "        text-align: right;\n",
       "    }\n",
       "</style>\n",
       "<table border=\"1\" class=\"dataframe\">\n",
       "  <thead>\n",
       "    <tr style=\"text-align: right;\">\n",
       "      <th></th>\n",
       "      <th>x_centroid</th>\n",
       "      <th>y_centroid</th>\n",
       "      <th>transcript_counts</th>\n",
       "      <th>control_probe_counts</th>\n",
       "      <th>control_codeword_counts</th>\n",
       "      <th>total_counts</th>\n",
       "      <th>cell_area</th>\n",
       "      <th>nucleus_area</th>\n",
       "    </tr>\n",
       "    <tr>\n",
       "      <th>cell_id</th>\n",
       "      <th></th>\n",
       "      <th></th>\n",
       "      <th></th>\n",
       "      <th></th>\n",
       "      <th></th>\n",
       "      <th></th>\n",
       "      <th></th>\n",
       "      <th></th>\n",
       "    </tr>\n",
       "  </thead>\n",
       "  <tbody>\n",
       "    <tr>\n",
       "      <th>1</th>\n",
       "      <td>377.663005</td>\n",
       "      <td>843.541888</td>\n",
       "      <td>154</td>\n",
       "      <td>0</td>\n",
       "      <td>0</td>\n",
       "      <td>154</td>\n",
       "      <td>110.361875</td>\n",
       "      <td>45.562656</td>\n",
       "    </tr>\n",
       "    <tr>\n",
       "      <th>2</th>\n",
       "      <td>382.078658</td>\n",
       "      <td>858.944818</td>\n",
       "      <td>64</td>\n",
       "      <td>0</td>\n",
       "      <td>0</td>\n",
       "      <td>64</td>\n",
       "      <td>87.919219</td>\n",
       "      <td>24.248906</td>\n",
       "    </tr>\n",
       "    <tr>\n",
       "      <th>3</th>\n",
       "      <td>319.839529</td>\n",
       "      <td>869.196542</td>\n",
       "      <td>57</td>\n",
       "      <td>0</td>\n",
       "      <td>0</td>\n",
       "      <td>57</td>\n",
       "      <td>52.561875</td>\n",
       "      <td>23.526406</td>\n",
       "    </tr>\n",
       "    <tr>\n",
       "      <th>4</th>\n",
       "      <td>259.304707</td>\n",
       "      <td>851.797949</td>\n",
       "      <td>120</td>\n",
       "      <td>0</td>\n",
       "      <td>0</td>\n",
       "      <td>120</td>\n",
       "      <td>75.230312</td>\n",
       "      <td>35.176719</td>\n",
       "    </tr>\n",
       "    <tr>\n",
       "      <th>5</th>\n",
       "      <td>370.576291</td>\n",
       "      <td>865.193024</td>\n",
       "      <td>120</td>\n",
       "      <td>0</td>\n",
       "      <td>0</td>\n",
       "      <td>120</td>\n",
       "      <td>180.218594</td>\n",
       "      <td>34.499375</td>\n",
       "    </tr>\n",
       "    <tr>\n",
       "      <th>...</th>\n",
       "      <td>...</td>\n",
       "      <td>...</td>\n",
       "      <td>...</td>\n",
       "      <td>...</td>\n",
       "      <td>...</td>\n",
       "      <td>...</td>\n",
       "      <td>...</td>\n",
       "      <td>...</td>\n",
       "    </tr>\n",
       "    <tr>\n",
       "      <th>167778</th>\n",
       "      <td>7455.404785</td>\n",
       "      <td>5115.021094</td>\n",
       "      <td>238</td>\n",
       "      <td>1</td>\n",
       "      <td>0</td>\n",
       "      <td>239</td>\n",
       "      <td>219.956094</td>\n",
       "      <td>61.412500</td>\n",
       "    </tr>\n",
       "    <tr>\n",
       "      <th>167779</th>\n",
       "      <td>7483.771045</td>\n",
       "      <td>5111.720703</td>\n",
       "      <td>80</td>\n",
       "      <td>0</td>\n",
       "      <td>0</td>\n",
       "      <td>80</td>\n",
       "      <td>38.427969</td>\n",
       "      <td>25.964844</td>\n",
       "    </tr>\n",
       "    <tr>\n",
       "      <th>167780</th>\n",
       "      <td>7470.119580</td>\n",
       "      <td>5119.350366</td>\n",
       "      <td>406</td>\n",
       "      <td>0</td>\n",
       "      <td>0</td>\n",
       "      <td>406</td>\n",
       "      <td>287.690469</td>\n",
       "      <td>86.158125</td>\n",
       "    </tr>\n",
       "    <tr>\n",
       "      <th>167781</th>\n",
       "      <td>7477.704004</td>\n",
       "      <td>5128.963086</td>\n",
       "      <td>120</td>\n",
       "      <td>0</td>\n",
       "      <td>0</td>\n",
       "      <td>120</td>\n",
       "      <td>235.670469</td>\n",
       "      <td>25.016563</td>\n",
       "    </tr>\n",
       "    <tr>\n",
       "      <th>167782</th>\n",
       "      <td>7489.376562</td>\n",
       "      <td>5123.402393</td>\n",
       "      <td>393</td>\n",
       "      <td>0</td>\n",
       "      <td>0</td>\n",
       "      <td>393</td>\n",
       "      <td>269.447344</td>\n",
       "      <td>111.445625</td>\n",
       "    </tr>\n",
       "  </tbody>\n",
       "</table>\n",
       "<p>167782 rows × 8 columns</p>\n",
       "</div>"
      ],
      "text/plain": [
       "          x_centroid   y_centroid  transcript_counts  control_probe_counts  \\\n",
       "cell_id                                                                      \n",
       "1         377.663005   843.541888                154                     0   \n",
       "2         382.078658   858.944818                 64                     0   \n",
       "3         319.839529   869.196542                 57                     0   \n",
       "4         259.304707   851.797949                120                     0   \n",
       "5         370.576291   865.193024                120                     0   \n",
       "...              ...          ...                ...                   ...   \n",
       "167778   7455.404785  5115.021094                238                     1   \n",
       "167779   7483.771045  5111.720703                 80                     0   \n",
       "167780   7470.119580  5119.350366                406                     0   \n",
       "167781   7477.704004  5128.963086                120                     0   \n",
       "167782   7489.376562  5123.402393                393                     0   \n",
       "\n",
       "         control_codeword_counts  total_counts   cell_area  nucleus_area  \n",
       "cell_id                                                                   \n",
       "1                              0           154  110.361875     45.562656  \n",
       "2                              0            64   87.919219     24.248906  \n",
       "3                              0            57   52.561875     23.526406  \n",
       "4                              0           120   75.230312     35.176719  \n",
       "5                              0           120  180.218594     34.499375  \n",
       "...                          ...           ...         ...           ...  \n",
       "167778                         0           239  219.956094     61.412500  \n",
       "167779                         0            80   38.427969     25.964844  \n",
       "167780                         0           406  287.690469     86.158125  \n",
       "167781                         0           120  235.670469     25.016563  \n",
       "167782                         0           393  269.447344    111.445625  \n",
       "\n",
       "[167782 rows x 8 columns]"
      ]
     },
     "execution_count": 12,
     "metadata": {},
     "output_type": "execute_result"
    }
   ],
   "source": [
    "spatial_full"
   ]
  },
  {
   "cell_type": "code",
   "execution_count": 13,
   "id": "rough-patient",
   "metadata": {},
   "outputs": [],
   "source": [
    "# The pixel size of Xenium 0.2125 microns. \n",
    "# Coordinates in microns from cells.csv.gz can be converted to pixel coordinates \n",
    "# by dividing by the pixel size. The origin of the coordinate system is the upper left of the TIFF image.\n",
    "\n",
    "\n",
    "pixel_size = 0.2125\n",
    "\n",
    "spatial = pd.DataFrame()\n",
    "spatial['0'] = spatial_full.x_centroid\n",
    "spatial['1'] = [1] * 167782\n",
    "spatial['2'] = spatial_full.x_centroid\n",
    "spatial['3'] = spatial_full.y_centroid \n",
    "spatial['4'] = spatial_full.x_centroid / pixel_size\n",
    "spatial['5'] = spatial_full.y_centroid / pixel_size\n",
    "\n",
    "b = ['CellID '] * 167782\n",
    "a = list(range(1,167783))\n",
    "\n",
    "#spatial.index = [m+str(n) for m,n in zip(b,a)]\n",
    "\n",
    "spatial.index = spatial.index.astype('str')\n",
    "\n",
    "\n",
    "spatial = spatial.drop(['0'], axis = 1)\n",
    "spatial.index.name = '0'\n",
    "spatial.columns = spatial.columns.astype('int64')\n",
    "spatial = spatial.astype('int64')\n",
    "\n",
    "adata.obs_names = spatial.index.astype('str')"
   ]
  },
  {
   "cell_type": "code",
   "execution_count": 20,
   "id": "identified-fields",
   "metadata": {},
   "outputs": [
    {
     "data": {
      "text/plain": [
       "AnnData object with n_obs × n_vars = 166313 × 313\n",
       "    obs: 'select', 'x_cord', 'y_cord', 'x_pixel', 'y_pixel', 'n_counts'\n",
       "    var: 'gene_ids', 'feature_types', 'genome', 'genename'\n",
       "    uns: 'log1p'"
      ]
     },
     "execution_count": 20,
     "metadata": {},
     "output_type": "execute_result"
    }
   ],
   "source": [
    "TrainDatafull = cel.make_annData_spatial(adata.copy(), spatial, filtered = True)\n",
    "TrainDatafull.var['genename'] = TrainDatafull.var.gene_ids\n",
    "TrainDatafull"
   ]
  },
  {
   "cell_type": "markdown",
   "id": "surface-tablet",
   "metadata": {},
   "source": [
    "### 3. Filter out cells with low UMI and low number of genes expressed\n"
   ]
  },
  {
   "cell_type": "code",
   "execution_count": 22,
   "id": "legendary-roberts",
   "metadata": {},
   "outputs": [
    {
     "data": {
      "text/plain": [
       "View of AnnData object with n_obs × n_vars = 42228 × 313\n",
       "    obs: 'select', 'x_cord', 'y_cord', 'x_pixel', 'y_pixel', 'n_counts'\n",
       "    var: 'gene_ids', 'feature_types', 'genome', 'genename'\n",
       "    uns: 'log1p'"
      ]
     },
     "execution_count": 22,
     "metadata": {},
     "output_type": "execute_result"
    }
   ],
   "source": [
    "os.chdir(\"\")\n",
    "TrainDatafull.obs_names = TrainDatafull.obs_names.astype(np.int64) \n",
    "\n",
    "TrainDatafull_filtered = TrainDatafull.copy()[~TrainDatafull.obs_names.isin(lowUMI_cellID.x), :]\n",
    "TrainDatafull_filtered"
   ]
  },
  {
   "cell_type": "code",
   "execution_count": 24,
   "id": "female-chase",
   "metadata": {},
   "outputs": [],
   "source": [
    "cel.get_zscore(TrainDatafull_filtered)"
   ]
  },
  {
   "cell_type": "markdown",
   "id": "virtual-wholesale",
   "metadata": {},
   "source": [
    "### 4. Split data into train and test data "
   ]
  },
  {
   "cell_type": "code",
   "execution_count": 26,
   "id": "chinese-brass",
   "metadata": {},
   "outputs": [],
   "source": [
    "### Spliting into training and testing data for prediction/evalutaiton:\n",
    "\n",
    "# split the data into training and testing data (90% train, 10% test)\n",
    "# making sure to use same sets across all methods (see CelERY script for generating random splits of the test/train data)a\n",
    "\n",
    "train_index = np.array(train_index).astype('str')\n",
    "test_index = np.array(test_index).astype('str')\n",
    "\n",
    "# 90% train\n",
    "DataSubtrain90_coor = TrainDatafull_filtered[train_index,]\n",
    "\n",
    "# 10% holdoff\n",
    "DataSubtest10_coor = TrainDatafull_filtered[test_index,]\n"
   ]
  },
  {
   "cell_type": "code",
   "execution_count": 27,
   "id": "sealed-answer",
   "metadata": {},
   "outputs": [
    {
     "data": {
      "text/plain": [
       "View of AnnData object with n_obs × n_vars = 38006 × 313\n",
       "    obs: 'select', 'x_cord', 'y_cord', 'x_pixel', 'y_pixel', 'n_counts'\n",
       "    var: 'gene_ids', 'feature_types', 'genome', 'genename'\n",
       "    uns: 'log1p'"
      ]
     },
     "execution_count": 27,
     "metadata": {},
     "output_type": "execute_result"
    }
   ],
   "source": [
    "DataSubtrain90_coor"
   ]
  },
  {
   "cell_type": "code",
   "execution_count": 28,
   "id": "increased-stanford",
   "metadata": {},
   "outputs": [
    {
     "data": {
      "text/plain": [
       "View of AnnData object with n_obs × n_vars = 4222 × 313\n",
       "    obs: 'select', 'x_cord', 'y_cord', 'x_pixel', 'y_pixel', 'n_counts'\n",
       "    var: 'gene_ids', 'feature_types', 'genome', 'genename'\n",
       "    uns: 'log1p'"
      ]
     },
     "execution_count": 28,
     "metadata": {},
     "output_type": "execute_result"
    }
   ],
   "source": [
    "DataSubtest10_coor"
   ]
  },
  {
   "cell_type": "code",
   "execution_count": 29,
   "id": "convertible-beauty",
   "metadata": {},
   "outputs": [],
   "source": [
    "holdoff = 10\n",
    "dataSection1 = DataSubtrain90_coor \n",
    "dataSection2 = DataSubtest10_coor"
   ]
  },
  {
   "cell_type": "code",
   "execution_count": 30,
   "id": "literary-nepal",
   "metadata": {},
   "outputs": [
    {
     "data": {
      "text/html": [
       "<div>\n",
       "<style scoped>\n",
       "    .dataframe tbody tr th:only-of-type {\n",
       "        vertical-align: middle;\n",
       "    }\n",
       "\n",
       "    .dataframe tbody tr th {\n",
       "        vertical-align: top;\n",
       "    }\n",
       "\n",
       "    .dataframe thead th {\n",
       "        text-align: right;\n",
       "    }\n",
       "</style>\n",
       "<table border=\"1\" class=\"dataframe\">\n",
       "  <thead>\n",
       "    <tr style=\"text-align: right;\">\n",
       "      <th></th>\n",
       "      <th>select</th>\n",
       "      <th>x_cord</th>\n",
       "      <th>y_cord</th>\n",
       "      <th>x_pixel</th>\n",
       "      <th>y_pixel</th>\n",
       "      <th>n_counts</th>\n",
       "    </tr>\n",
       "    <tr>\n",
       "      <th>0</th>\n",
       "      <th></th>\n",
       "      <th></th>\n",
       "      <th></th>\n",
       "      <th></th>\n",
       "      <th></th>\n",
       "      <th></th>\n",
       "    </tr>\n",
       "  </thead>\n",
       "  <tbody>\n",
       "    <tr>\n",
       "      <th>7</th>\n",
       "      <td>1</td>\n",
       "      <td>296</td>\n",
       "      <td>856</td>\n",
       "      <td>1394</td>\n",
       "      <td>4031</td>\n",
       "      <td>473.0</td>\n",
       "    </tr>\n",
       "    <tr>\n",
       "      <th>32</th>\n",
       "      <td>1</td>\n",
       "      <td>277</td>\n",
       "      <td>856</td>\n",
       "      <td>1306</td>\n",
       "      <td>4029</td>\n",
       "      <td>298.0</td>\n",
       "    </tr>\n",
       "    <tr>\n",
       "      <th>54</th>\n",
       "      <td>1</td>\n",
       "      <td>182</td>\n",
       "      <td>852</td>\n",
       "      <td>856</td>\n",
       "      <td>4013</td>\n",
       "      <td>294.0</td>\n",
       "    </tr>\n",
       "    <tr>\n",
       "      <th>55</th>\n",
       "      <td>1</td>\n",
       "      <td>132</td>\n",
       "      <td>864</td>\n",
       "      <td>623</td>\n",
       "      <td>4069</td>\n",
       "      <td>488.0</td>\n",
       "    </tr>\n",
       "    <tr>\n",
       "      <th>59</th>\n",
       "      <td>1</td>\n",
       "      <td>148</td>\n",
       "      <td>843</td>\n",
       "      <td>696</td>\n",
       "      <td>3968</td>\n",
       "      <td>332.0</td>\n",
       "    </tr>\n",
       "    <tr>\n",
       "      <th>...</th>\n",
       "      <td>...</td>\n",
       "      <td>...</td>\n",
       "      <td>...</td>\n",
       "      <td>...</td>\n",
       "      <td>...</td>\n",
       "      <td>...</td>\n",
       "    </tr>\n",
       "    <tr>\n",
       "      <th>167761</th>\n",
       "      <td>1</td>\n",
       "      <td>7486</td>\n",
       "      <td>5212</td>\n",
       "      <td>35231</td>\n",
       "      <td>24531</td>\n",
       "      <td>267.0</td>\n",
       "    </tr>\n",
       "    <tr>\n",
       "      <th>167771</th>\n",
       "      <td>1</td>\n",
       "      <td>7458</td>\n",
       "      <td>5095</td>\n",
       "      <td>35099</td>\n",
       "      <td>23977</td>\n",
       "      <td>305.0</td>\n",
       "    </tr>\n",
       "    <tr>\n",
       "      <th>167772</th>\n",
       "      <td>1</td>\n",
       "      <td>7469</td>\n",
       "      <td>5093</td>\n",
       "      <td>35148</td>\n",
       "      <td>23970</td>\n",
       "      <td>391.0</td>\n",
       "    </tr>\n",
       "    <tr>\n",
       "      <th>167776</th>\n",
       "      <td>1</td>\n",
       "      <td>7446</td>\n",
       "      <td>5111</td>\n",
       "      <td>35041</td>\n",
       "      <td>24053</td>\n",
       "      <td>334.0</td>\n",
       "    </tr>\n",
       "    <tr>\n",
       "      <th>167777</th>\n",
       "      <td>1</td>\n",
       "      <td>7465</td>\n",
       "      <td>5108</td>\n",
       "      <td>35129</td>\n",
       "      <td>24037</td>\n",
       "      <td>397.0</td>\n",
       "    </tr>\n",
       "  </tbody>\n",
       "</table>\n",
       "<p>38006 rows × 6 columns</p>\n",
       "</div>"
      ],
      "text/plain": [
       "        select  x_cord  y_cord  x_pixel  y_pixel  n_counts\n",
       "0                                                         \n",
       "7            1     296     856     1394     4031     473.0\n",
       "32           1     277     856     1306     4029     298.0\n",
       "54           1     182     852      856     4013     294.0\n",
       "55           1     132     864      623     4069     488.0\n",
       "59           1     148     843      696     3968     332.0\n",
       "...        ...     ...     ...      ...      ...       ...\n",
       "167761       1    7486    5212    35231    24531     267.0\n",
       "167771       1    7458    5095    35099    23977     305.0\n",
       "167772       1    7469    5093    35148    23970     391.0\n",
       "167776       1    7446    5111    35041    24053     334.0\n",
       "167777       1    7465    5108    35129    24037     397.0\n",
       "\n",
       "[38006 rows x 6 columns]"
      ]
     },
     "execution_count": 30,
     "metadata": {},
     "output_type": "execute_result"
    }
   ],
   "source": [
    "dataSection1.obs"
   ]
  },
  {
   "cell_type": "code",
   "execution_count": 31,
   "id": "useful-validation",
   "metadata": {},
   "outputs": [],
   "source": [
    "dataSection1.obs['x'] = dataSection1.obs['x_cord']\n",
    "dataSection1.obs['y'] = dataSection1.obs['y_cord']\n",
    "\n",
    "dataSection2.obs['x'] = dataSection2.obs['x_cord']\n",
    "dataSection2.obs['y'] = dataSection2.obs['y_cord']"
   ]
  },
  {
   "cell_type": "code",
   "execution_count": 32,
   "id": "matched-lancaster",
   "metadata": {},
   "outputs": [],
   "source": [
    "dataSection1.X = dataSection1.X.toarray()\n",
    "dataSection2.X = dataSection2.X.toarray()"
   ]
  },
  {
   "cell_type": "code",
   "execution_count": 33,
   "id": "portuguese-strip",
   "metadata": {},
   "outputs": [
    {
     "data": {
      "text/plain": [
       "AnnData object with n_obs × n_vars = 38006 × 313\n",
       "    obs: 'select', 'x_cord', 'y_cord', 'x_pixel', 'y_pixel', 'n_counts', 'x', 'y'\n",
       "    var: 'gene_ids', 'feature_types', 'genome', 'genename'\n",
       "    uns: 'log1p'"
      ]
     },
     "execution_count": 33,
     "metadata": {},
     "output_type": "execute_result"
    }
   ],
   "source": [
    "dataSection1"
   ]
  },
  {
   "cell_type": "code",
   "execution_count": 34,
   "id": "smooth-short",
   "metadata": {},
   "outputs": [
    {
     "data": {
      "text/plain": [
       "AnnData object with n_obs × n_vars = 4222 × 313\n",
       "    obs: 'select', 'x_cord', 'y_cord', 'x_pixel', 'y_pixel', 'n_counts', 'x', 'y'\n",
       "    var: 'gene_ids', 'feature_types', 'genome', 'genename'\n",
       "    uns: 'log1p'"
      ]
     },
     "execution_count": 34,
     "metadata": {},
     "output_type": "execute_result"
    }
   ],
   "source": [
    "dataSection2"
   ]
  },
  {
   "cell_type": "code",
   "execution_count": 35,
   "id": "elder-terrain",
   "metadata": {},
   "outputs": [],
   "source": [
    "# remove extra data stored \n",
    "\n",
    "del adata\n",
    "del TrainDatafull_filtered\n",
    "del TrainDatafull"
   ]
  },
  {
   "cell_type": "code",
   "execution_count": null,
   "id": "royal-caribbean",
   "metadata": {},
   "outputs": [],
   "source": [
    "datatrain = dataSection1\n",
    "datatest = dataSection2\n",
    "genes = dataSection1.var.index"
   ]
  },
  {
   "cell_type": "markdown",
   "id": "disturbed-offset",
   "metadata": {},
   "source": [
    "### 5. Run spaOTsc"
   ]
  },
  {
   "cell_type": "code",
   "execution_count": 41,
   "id": "confirmed-candle",
   "metadata": {},
   "outputs": [],
   "source": [
    "random.seed(2021)\n",
    "torch.manual_seed(2021)\n",
    "np.random.seed(2021)\n",
    "\n",
    "os.chdir(\"\")\n",
    "\n",
    "\n",
    "## Running spaOTsc\n",
    "df_sc = pd.DataFrame(datatest.X)\n",
    "is_dmat = cdist(datatrain.obs.to_numpy()[:,0:2], datatrain.obs.to_numpy()[:,0:2], 'minkowski', p=2.)\n",
    "sc_dmat = cdist(datatest.X, datatest.X, 'minkowski', p=2.)\n",
    "is_dmat = cdist(np.array(datatrain.obs.iloc[:,0:2]), np.array(datatrain.obs.iloc[:,0:2]), 'euclidean')\n",
    "sc_dmat = cdist(datatest.X, datatest.X, 'euclidean')\n"
   ]
  },
  {
   "cell_type": "code",
   "execution_count": 42,
   "id": "wooden-flower",
   "metadata": {},
   "outputs": [],
   "source": [
    "spsc = SpaOTsc.spatial_sc(sc_data=df_sc, is_dmat=is_dmat, sc_dmat=sc_dmat)\n"
   ]
  },
  {
   "cell_type": "code",
   "execution_count": 43,
   "id": "quick-teach",
   "metadata": {},
   "outputs": [],
   "source": [
    "cost_matrix = cdist(datatest.X, datatrain.X, 'euclidean')\n",
    "        "
   ]
  },
  {
   "cell_type": "code",
   "execution_count": 44,
   "id": "forward-progress",
   "metadata": {},
   "outputs": [],
   "source": [
    "location_pred = spsc.transport_plan(cost_matrix)\n",
    "location_pred_df = pd.DataFrame(location_pred)\n",
    "location_pred_df.to_csv(\"location_pred_probs.csv\", sep=',')\n"
   ]
  },
  {
   "cell_type": "code",
   "execution_count": 69,
   "id": "minor-rough",
   "metadata": {},
   "outputs": [
    {
     "data": {
      "text/plain": [
       "(4222, 38006)"
      ]
     },
     "execution_count": 69,
     "metadata": {},
     "output_type": "execute_result"
    }
   ],
   "source": [
    "location_pred = np.array(location_pred_df)\n",
    "location_pred.shape"
   ]
  },
  {
   "cell_type": "markdown",
   "id": "incredible-access",
   "metadata": {},
   "source": [
    "## Expected position:"
   ]
  },
  {
   "cell_type": "code",
   "execution_count": 70,
   "id": "amber-scratch",
   "metadata": {},
   "outputs": [],
   "source": [
    "location_sum = np.sum(location_pred, axis=1)\n",
    "location_pred_copy = location_pred / location_sum.reshape(len(location_sum), 1)\n",
    "pred_cord_transform = location_pred_copy.dot(np.array(datatrain.obs[['x_cord', 'y_cord']]))"
   ]
  },
  {
   "cell_type": "code",
   "execution_count": 71,
   "id": "recognized-carol",
   "metadata": {},
   "outputs": [
    {
     "data": {
      "text/plain": [
       "array([[2223.35288385, 2251.8120195 ],\n",
       "       [2098.93669228, 2331.00031686],\n",
       "       [2794.47220162, 2332.61304812],\n",
       "       ...,\n",
       "       [2494.38986343, 2382.04782971],\n",
       "       [2042.55707426, 2251.00206154],\n",
       "       [2181.70260197, 2285.28090654]])"
      ]
     },
     "execution_count": 71,
     "metadata": {},
     "output_type": "execute_result"
    }
   ],
   "source": [
    "pred_cord_transform"
   ]
  },
  {
   "cell_type": "code",
   "execution_count": 72,
   "id": "growing-casting",
   "metadata": {},
   "outputs": [
    {
     "data": {
      "text/plain": [
       "array([[1.        , 0.73321875],\n",
       "       [0.73321875, 1.        ]])"
      ]
     },
     "execution_count": 72,
     "metadata": {},
     "output_type": "execute_result"
    }
   ],
   "source": [
    "#pd.cor(pred_cord_transform[0:,], datatest.obs['x_cord'])\n",
    "\n",
    "np.corrcoef(pred_cord_transform[:,0],datatest.obs['x_cord'])"
   ]
  },
  {
   "cell_type": "code",
   "execution_count": 73,
   "id": "intense-january",
   "metadata": {},
   "outputs": [
    {
     "data": {
      "text/plain": [
       "array([[1.        , 0.47914602],\n",
       "       [0.47914602, 1.        ]])"
      ]
     },
     "execution_count": 73,
     "metadata": {},
     "output_type": "execute_result"
    }
   ],
   "source": [
    "np.corrcoef(pred_cord_transform[:,1],datatest.obs['y_cord'])"
   ]
  },
  {
   "cell_type": "code",
   "execution_count": null,
   "id": "original-uzbekistan",
   "metadata": {},
   "outputs": [],
   "source": []
  }
 ],
 "metadata": {
  "kernelspec": {
   "display_name": "novosparc",
   "language": "python",
   "name": "novosparc"
  },
  "language_info": {
   "codemirror_mode": {
    "name": "ipython",
    "version": 3
   },
   "file_extension": ".py",
   "mimetype": "text/x-python",
   "name": "python",
   "nbconvert_exporter": "python",
   "pygments_lexer": "ipython3",
   "version": "3.8.15"
  }
 },
 "nbformat": 4,
 "nbformat_minor": 5
}

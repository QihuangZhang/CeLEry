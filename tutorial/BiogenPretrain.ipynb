{
 "cells": [
  {
   "cell_type": "markdown",
   "metadata": {},
   "source": [
    "<h1><center>Biogen Pretrained Tutorial - independent version</center></h1>\n",
    "\n",
    "\n",
    "<center>Author: Qihuang Zhang*, Jian Hu, Kejie Li, Baohong Zhang, David Dai, Edward B. Lee, Rui Xiao, Mingyao Li*"
   ]
  },
  {
   "cell_type": "markdown",
   "metadata": {},
   "source": [
    "### Outline\n",
    "1. Preparation\n",
    "2. Import modules\n",
    "3. Data Loading\n",
    "4. Run CeLEry\n",
    "5. Data Augmentation"
   ]
  },
  {
   "cell_type": "markdown",
   "metadata": {},
   "source": [
    "In this tutorial, we illustrate the usage of the CeLEry pretrain model trained by Biogene mouse brain data (Li and Zhang, 2022). This model takes the gene expression input of 886 genes and produce a prediction probability vector to eight regions segemented from the spatial transcriptomics data.\n",
    "\n",
    "This tutorial can be independent of the CeLEry package. It does not require installing the CeLEry package. \n",
    "\n",
    "### 1. Preparation\n",
    "\n",
    "To implemente the model without installing CeLEry package, several helper functions are needed. The ``pickle`` package is used to load the pretrained model. Function ``make_annData_query()`` transform the raw input data into AnnData format and conduct data proprocessing, including  normalizing the gene expression per cell and performing ``log(1+p)`` transcformation. The ``get_zscore()`` helps to normalized the gene expression so that batch effect can be removed."
   ]
  },
  {
   "cell_type": "code",
   "execution_count": null,
   "metadata": {},
   "outputs": [],
   "source": [
    "import pickle\n",
    "from scanpy import read_10x_h5\n",
    "\n",
    "import scanpy as sc\n",
    "import numpy as np\n",
    "from scipy.sparse import issparse\n",
    "\n",
    "\n",
    "def make_annData_query (adata):\n",
    "    \"\"\" \n",
    "    adata: an annData file for the scRNA data\n",
    "    \"\"\"\n",
    "    adata.var_names = [i.upper() for i in list(adata.var_names)]\n",
    "    adata.var[\"genename\"] = adata.var.index.astype(\"str\")\n",
    "    #\n",
    "    adata.var_names_make_unique()\n",
    "    #Normalize and take log for UMI\n",
    "    sc.pp.normalize_per_cell(adata)\n",
    "    sc.pp.log1p(adata)\n",
    "    return adata\n",
    "\n",
    "\n",
    "\n",
    "def get_zscore (adata, mean = None, sd = None ):\n",
    "\tgenotypedata = (adata.X.A if issparse(adata.X) else adata.X)\n",
    "\tif mean is None:\n",
    "\t\tgenemean = np.mean(genotypedata, axis =0)\n",
    "\t\tgenesd = np.std(genotypedata, axis = 0)\n",
    "\telse:\n",
    "\t\tgenemean = mean\n",
    "\t\tgenesd = sd\n",
    "\ttry:\n",
    "\t\tif adata.standardize is not True:\n",
    "\t\t\t\tdatatransform = (genotypedata - genemean) / genesd\n",
    "\t\t\t\tadata.X = datatransform\n",
    "\t\t\t\tadata.genemean = genemean\n",
    "\t\t\t\tadata.genesd = genesd\n",
    "\t\t\t\tadata.standardize = True\n",
    "\t\telse:\n",
    "\t\t\tprint(\"Data has already been z-scored\")\n",
    "\texcept AttributeError:\n",
    "\t\tdatatransform = (genotypedata - genemean) / genesd\n",
    "\t\tadata.X = datatransform\n",
    "\t\tadata.genemean = genemean\n",
    "\t\tadata.genesd = genesd\n",
    "\t\tadata.standardize = True\n",
    "\t\t"
   ]
  },
  {
   "cell_type": "markdown",
   "metadata": {},
   "source": [
    "### 2. Load Data\n",
    " \n",
    "Load scRNA-seq/snRNA-seq data. Example data can be download from [Li and Zhang (2022)](https://doi.org/10.5281/zenodo.6640285)."
   ]
  },
  {
   "cell_type": "code",
   "execution_count": null,
   "metadata": {},
   "outputs": [],
   "source": [
    "\n",
    "# QueryData_raw = read_10x_h5(\"/data/Biogene/7G-1/filtered_feature_bc_matrix.h5\")\n",
    "QueryData_raw = read_10x_h5(\"../data/Biogene/cellranger/7G-1/filtered_feature_bc_matrix.h5\")\n",
    "QueryData = cel.make_annData_query (QueryData_raw)"
   ]
  },
  {
   "cell_type": "markdown",
   "metadata": {},
   "source": [
    "It is import to make sure the query scRNA-seq/snRNA-seq contains all the gene in the trained model."
   ]
  },
  {
   "cell_type": "code",
   "execution_count": null,
   "metadata": {},
   "outputs": [],
   "source": [
    "## Load gene list\n",
    "filename = \"../output/Biogene/Reference_genes_8_075B.obj\"\n",
    "filehandler = open(filename, 'rb') \n",
    "genenames = pickle.load(filehandler)\n",
    "\n",
    "## Rearrange the data and filter the selected genes in the trained model.\n",
    "Qdata = QueryData[:,list(genenames)]\n",
    "cel.get_zscore(Qdata)"
   ]
  },
  {
   "cell_type": "markdown",
   "metadata": {},
   "source": [
    "#### 3. Apply Pre-trained CeLEry model to the snRNA data\n",
    "\n",
    "The gene expression of the first cell (a 1X886 matrix) in the snRNA-seq data is given by:"
   ]
  },
  {
   "cell_type": "code",
   "execution_count": null,
   "metadata": {},
   "outputs": [],
   "source": [
    "Qdata[0].X.A"
   ]
  },
  {
   "cell_type": "markdown",
   "metadata": {},
   "source": [
    "Load the CeLEry prediction model which is located at the ``\"../output/Biogene/models\"`` named as ``Org_domain_075B``. We use CeLEry function ``Predict_domain()`` to conduct domain prediction for each single cells in the scRNA-seq/snRNA-seq data. The detailed argument are explained as follows:\n",
    "\n",
    "* data_test: (AnnData object) the input scRNA-seq/snRNA-seq data \n",
    "* class_num: (int) the number of class to be predicted. This value should be consistent with the number of domains in the training model.\n",
    "* path: (string) the location of the pre-trained model\n",
    "* filename: (string) the file name of the saved pre-trained model\n",
    "* predtype: (string) if predtype is \"probability\" (default) then a probability prediction matrix will be produced; if predtype is \"deterministic\", then the deterministic assignment based on the maximun probability prediction will be returned; if predtype is \"both\", then both prediction will be outputed. "
   ]
  },
  {
   "cell_type": "code",
   "execution_count": null,
   "metadata": {},
   "outputs": [],
   "source": [
    "# filename = \"../output/Biogene/models/Org_domain_075B.obj\"\n",
    "# filehandler = open(filename, 'rb') \n",
    "# CeLERymodel = pickle.load(filehandler)\n",
    "\n",
    "## Prediction of the first cell\n",
    "\n",
    "pred_cord = cel.Predict_domain(data_test = Qdata[0], class_num = 8, path = \"../output/Biogene/models\", filename = \"Org_domain_075B\", predtype = \"probability\")\n",
    "\n",
    "\n",
    "## Prediction of the entire scRNA-seq data\n",
    "\n",
    "pred_cord = cel.Predict_domain(data_test = Qdata, class_num = 8, path = \"../output/Biogene/models\", filename = \"Org_domain_075B\", predtype = \"probability\")\n",
    "\n"
   ]
  },
  {
   "cell_type": "markdown",
   "metadata": {},
   "source": [
    "#### 1.3 Anaconda\n",
    "If you do not have Python3.5 or Python3.6 installed, consider installing Anaconda (see Installing Anaconda). After installing Anaconda, you can create a new environment, for example, CeLEry (you can change to any name you like)."
   ]
  },
  {
   "cell_type": "code",
   "execution_count": null,
   "metadata": {},
   "outputs": [],
   "source": [
    "#create an environment called CeLEry\n",
    "conda create -n CeLEry python=3.7.9\n",
    "#activate your environment \n",
    "conda activate CeLEry\n",
    "git clone https://github.com/QihuangZhang/CeLEry\n",
    "cd CeLEry/CeLEry_package/\n",
    "python3 setup.py build\n",
    "python3 setup.py install\n",
    "conda deactivate"
   ]
  },
  {
   "cell_type": "markdown",
   "metadata": {},
   "source": [
    "### 2. Import python modules"
   ]
  },
  {
   "cell_type": "code",
   "execution_count": 1,
   "metadata": {},
   "outputs": [],
   "source": [
    "import os,csv,re\n",
    "import pandas as pd\n",
    "import numpy as np\n",
    "import scanpy as sc\n",
    "import math\n",
    "from skimage import io, color\n",
    "\n",
    "from scipy.sparse import issparse\n",
    "import random, torch\n",
    "import warnings\n",
    "warnings.filterwarnings(\"ignore\")\n",
    "import pickle\n",
    "\n",
    "import json\n",
    "os.chdir(\"CeLEryPython\")\n",
    "import CeLEryPy as cel\n"
   ]
  },
  {
   "cell_type": "code",
   "execution_count": null,
   "metadata": {},
   "outputs": [],
   "source": [
    "cel.__version__"
   ]
  },
  {
   "cell_type": "markdown",
   "metadata": {},
   "source": [
    "### 3. Read in data\n",
    "The current version of CeLEry takes two input data, the reference data and the query data. The reference data is used to trained the model and the query data is the dataset where predictions (or classifications) are made. \n",
    "<br>\n",
    "1. The Reference Data (the spatial transcriptomics data): AnnData format including   \n",
    "- the gene expression matrix spot by gene ($n_{spot}$ by $k$);\n",
    "- the spot-specific information (e.g., coordinates, layer, etc.)\n",
    "<br>\n",
    "2. The Query Data (the scRNA-seq data): AnnData format including \n",
    "- the gene expression matrix cell by gene ($n_{cell}$ by $k$);\n",
    "- the demographic information for each cell (e.g., cell type, layer, etc.)\n",
    "<br>\n",
    "\n",
    "AnnData stores a data matrix `.X` together with annotations of observations `.obs`, variables `.var` and unstructured annotations `.uns`. "
   ]
  },
  {
   "cell_type": "code",
   "execution_count": null,
   "metadata": {},
   "outputs": [],
   "source": [
    "\"\"\"\n",
    "#Read original 10x_h5 data and save it to h5ad\n",
    "from scanpy import read_10x_h5\n",
    "adata = read_10x_h5(\"../tutorial/data/151673/expression_matrix.h5\")\n",
    "spatial = pd.read_csv(\"../tutorial/data/151673/positions.txt\",sep=\",\",header=None,na_filter=False,index_col=0) \n",
    "adata.obs[\"x1\"] = spatial[1]\n",
    "adata.obs[\"x2\"] = spatial[2]\n",
    "adata.obs[\"x3\"] = spatial[3]\n",
    "adata.obs[\"x4\"] = spatial[4]\n",
    "adata.obs[\"x5\"] = spatial[5]\n",
    "adata.obs[\"x_array\"] = adata.obs[\"x2\"]\n",
    "adata.obs[\"y_array\"] = adata.obs[\"x3\"]\n",
    "adata.obs[\"x_pixel\"] = adata.obs[\"x4\"]\n",
    "adata.obs[\"y_pixel\"] = adata.obs[\"x5\"]\n",
    "#Select captured samples\n",
    "adata = adata[adata.obs[\"x1\"]==1]\n",
    "adata.var_names = [i.upper() for i in list(adata.var_names)]\n",
    "adata.var[\"genename\"] = adata.var.index.astype(\"str\")\n",
    "adata.write_h5ad(\"../tutorial/data/151673/sample_data.h5ad\")\n",
    "\"\"\"\n",
    "#Read in gene expression and spatial location\n",
    "Qdata = sc.read(\"../tutorial/data/MouseSCToy.h5ad\")\n",
    "Rdata = sc.read(\"../tutorial/data/MousePosteriorToy.h5ad\")\n"
   ]
  },
  {
   "cell_type": "markdown",
   "metadata": {},
   "source": [
    "Before inplementing our methods, we often normalize both the reference data and the query data:"
   ]
  },
  {
   "cell_type": "code",
   "execution_count": null,
   "metadata": {},
   "outputs": [],
   "source": [
    "cel.get_zscore(Qdata)\n",
    "cel.get_zscore(Rdata)\n"
   ]
  },
  {
   "cell_type": "markdown",
   "metadata": {},
   "source": [
    "### 4. Run CeLEry\n",
    "\n",
    "We demonstrate the implemnetation of CeLEry in two tasks. In the first task, CeLEry is implemented to predict the 2D coordinates for the cells. In the second task, we classify the cells into different layers.\n",
    "\n",
    "#### 4.1 Analysis Task 1: Coordinates Recovery\n",
    "\n",
    "In the first task, we train a deep neural network using the reference data, and then apply the trained model to predict the location of the cells (or spots) in the query data. \n",
    "\n",
    "##### Training \n",
    "\n",
    "First, we train the model using spatial transcriptomic data. The trained model will also automately save as an ``.obj`` file in the specified path."
   ]
  },
  {
   "cell_type": "code",
   "execution_count": null,
   "metadata": {},
   "outputs": [],
   "source": [
    "\n",
    "model_train = cel.Fit_cord (data_train = Rdata, hidden_dims = [30, 25, 15], num_epochs_max = 500, path = \"output/example\", filename = \"PreOrg_Mousesc\")\n"
   ]
  },
  {
   "cell_type": "markdown",
   "metadata": {},
   "source": [
    "The fitting function ``Fit_cord`` involves the following parameters:\n",
    "\n",
    "- data_train (an annotated matrix): the input data\n",
    "\n",
    "- hidden_dims (a list of length three): the width of the neural network in each layer. In total, three layers are considered in the neural network.\n",
    "\n",
    "- num_epochs_max: maximum number of epochs considered in the training procedure. \n",
    "\n",
    "- path: the directory that saving the model object\n",
    "\n",
    "- filename: the name of the model object to be saved\n"
   ]
  },
  {
   "cell_type": "markdown",
   "metadata": {},
   "source": [
    "##### Prediction \n",
    "\n",
    "Then, we apply the trained model to the query data to predict the coordinates of the cells."
   ]
  },
  {
   "cell_type": "code",
   "execution_count": null,
   "metadata": {},
   "outputs": [],
   "source": [
    "pred_cord = cel.Predict_cord (data_test = Qdata, path = \"output/example\", filename = \"PreOrg_Mousesc\")\n",
    "\n",
    "pred_cord"
   ]
  },
  {
   "cell_type": "markdown",
   "metadata": {},
   "source": [
    "The prediction function ``Predict_cord`` contains three arguments:\n",
    "- data_test (an annotated matrix): the input query dat\n",
    "\n",
    "- path: the directory that saving the model object\n",
    "\n",
    "- filename: the name of the model object to be saved\n",
    "\n",
    "\n",
    "The method implementation outputs the 2D coordinates in ``pred_cord``. A ``.csv`` file will also saved with the name \"predmatrix\"."
   ]
  },
  {
   "cell_type": "markdown",
   "metadata": {},
   "source": [
    "#### 4.2 Analysis Task 2:  Layer Recovery\n",
    "\n",
    "In the second task, we use CeLEry to classify the cells into different layers. First, we load the spatial transcriptomics data with annotation for layers together with a single cell RNA data collected from an Alzheimer's study."
   ]
  },
  {
   "cell_type": "code",
   "execution_count": null,
   "metadata": {},
   "outputs": [],
   "source": [
    "Qdata = sc.read(\"../tutorial/data/AlzheimerToy.h5ad\")\n",
    "Rdata = sc.read(\"../tutorial/data/DataLayerToy.h5ad\")\n",
    "\n",
    "cel.get_zscore(Qdata)\n",
    "cel.get_zscore(Rdata)\n"
   ]
  },
  {
   "cell_type": "markdown",
   "metadata": {},
   "source": [
    "The sample size of the spots in each layer could be very different, leading to the poor performance of the classification in some layers. We consider weighting the sample from each layer. A typical way to choose weight is to use $1/sample size$. "
   ]
  },
  {
   "cell_type": "code",
   "execution_count": null,
   "metadata": {},
   "outputs": [],
   "source": [
    "layer_count =  Rdata.obs[\"Layer\"].value_counts().sort_index()\n",
    "layer_weight = layer_count[7]/layer_count[0:7]\n",
    "layer_weights = torch.tensor(layer_weight.to_numpy())"
   ]
  },
  {
   "cell_type": "markdown",
   "metadata": {},
   "source": [
    "We train the model using the function ``Fit_layer``. The model will returned and also save as an ``.obj`` object to be loaded later. "
   ]
  },
  {
   "cell_type": "code",
   "execution_count": null,
   "metadata": {},
   "outputs": [],
   "source": [
    "model_train = cel.Fit_layer (data_train = Rdata, layer_weights = layer_weights, layerkey = \"Layer\", \n",
    "                             hidden_dims = [30, 25, 15], num_epochs_max = 500, path = \"output/example\", filename = \"PreOrg_layer\")\n",
    "\n",
    "model_train"
   ]
  },
  {
   "cell_type": "markdown",
   "metadata": {},
   "source": [
    "### 5. Data Augmentation\n",
    "Due to the limit sample size of the reference data (i.e, spatial transcriptomic data), we can also implementment an augmentation procedure to enlarge the sample size before implementing CeLEry.\n",
    "\n",
    "(UNDER CONSTRUCTION)"
   ]
  }
 ],
 "metadata": {
  "kernelspec": {
   "display_name": "Python 3",
   "language": "python",
   "name": "python3"
  },
  "language_info": {
   "codemirror_mode": {
    "name": "ipython",
    "version": 3
   },
   "file_extension": ".py",
   "mimetype": "text/x-python",
   "name": "python",
   "nbconvert_exporter": "python",
   "pygments_lexer": "ipython3",
   "version": "3.8.8"
  }
 },
 "nbformat": 4,
 "nbformat_minor": 2
}

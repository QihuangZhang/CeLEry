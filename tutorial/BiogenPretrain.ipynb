{
 "cells": [
  {
   "cell_type": "markdown",
   "metadata": {},
   "source": [
    "<h1><center>Biogen Pretrained Tutorial - independent version</center></h1>\n",
    "\n",
    "\n",
    "<center>Author: Qihuang Zhang*, Jian Hu, Kejie Li, Baohong Zhang, David Dai, Edward B. Lee, Rui Xiao, Mingyao Li*"
   ]
  },
  {
   "cell_type": "markdown",
   "metadata": {},
   "source": [
    "## Outline\n",
    "1. Preparation\n",
    "2. Load Data\n",
    "3. Prediction"
   ]
  },
  {
   "cell_type": "markdown",
   "metadata": {},
   "source": [
    "In this tutorial, we illustrate the usage of the CeLEry pretrain model trained by Biogene mouse brain data (Li and Zhang, 2022). This model takes the gene expression input of 886 genes and produce a prediction probability vector to eight regions segemented from the spatial transcriptomics data.\n",
    "\n",
    "This tutorial can be independent of the CeLEry package. It does not require installing the CeLEry package. \n",
    "\n",
    "## 1. Preparation\n",
    "\n",
    "To implemente the model without installing CeLEry package, several helper functions are needed. The ``pickle`` package is used to load the pretrained model. Function ``make_annData_query()`` transform the raw input data into AnnData format and conduct data proprocessing, including  normalizing the gene expression per cell and performing ``log(1+p)`` transcformation. The ``get_zscore()`` helps to normalized the gene expression so that batch effect can be removed."
   ]
  },
  {
   "cell_type": "code",
   "execution_count": null,
   "metadata": {},
   "outputs": [],
   "source": [
    "import pickle\n",
    "from scanpy import read_10x_h5\n",
    "import CeLEry as cel\n",
    "\n",
    "import scanpy as sc\n",
    "import numpy as np\n",
    "from scipy.sparse import issparse\n"
   ]
  },
  {
   "cell_type": "markdown",
   "metadata": {},
   "source": [
    "## 2. Load Data\n",
    " \n",
    "Load scRNA-seq/snRNA-seq data. Example data can be download from [Li and Zhang (2022)](https://doi.org/10.5281/zenodo.6640285)."
   ]
  },
  {
   "cell_type": "code",
   "execution_count": null,
   "metadata": {},
   "outputs": [],
   "source": [
    "\n",
    "QueryData_raw = read_10x_h5(\"data/Biogen/7G-1/filtered_feature_bc_matrix.h5\")\n",
    "QueryData = cel.make_annData_query (QueryData_raw)"
   ]
  },
  {
   "cell_type": "markdown",
   "metadata": {},
   "source": [
    "It is import to make sure the query scRNA-seq/snRNA-seq contains all the gene in the trained model."
   ]
  },
  {
   "cell_type": "code",
   "execution_count": null,
   "metadata": {},
   "outputs": [],
   "source": [
    "## Load gene list\n",
    "filename = \"pretrainmodel/Biogen/Reference_genes_8_075B.obj\"\n",
    "filehandler = open(filename, 'rb') \n",
    "genenames = pickle.load(filehandler)\n",
    "\n",
    "## Rearrange the data and filter the selected genes in the trained model.\n",
    "Qdata = QueryData[:,list(genenames)]\n",
    "cel.get_zscore(Qdata)"
   ]
  },
  {
   "cell_type": "markdown",
   "metadata": {},
   "source": [
    "#### 3. Apply Pre-trained CeLEry model to the snRNA data\n",
    "\n",
    "The gene expression of the first cell (a 1X886 matrix) in the snRNA-seq data is given by:"
   ]
  },
  {
   "cell_type": "code",
   "execution_count": null,
   "metadata": {},
   "outputs": [],
   "source": [
    "Qdata[0].X.A"
   ]
  },
  {
   "cell_type": "markdown",
   "metadata": {},
   "source": [
    "Load the CeLEry prediction model which is located at the ``\"../output/Biogene/models\"`` named as ``Org_domain_075B``. We use CeLEry function ``Predict_domain()`` to conduct domain prediction for each single cells in the scRNA-seq/snRNA-seq data. The detailed argument are explained as follows:\n",
    "\n",
    "* data_test: (AnnData object) the input scRNA-seq/snRNA-seq data \n",
    "* class_num: (int) the number of class to be predicted. This value should be consistent with the number of domains in the training model.\n",
    "* path: (string) the location of the pre-trained model\n",
    "* filename: (string) the file name of the saved pre-trained model\n",
    "* predtype: (string) if predtype is \"probability\" (default) then a probability prediction matrix will be produced; if predtype is \"deterministic\", then the deterministic assignment based on the maximun probability prediction will be returned; if predtype is \"both\", then both prediction will be outputed. "
   ]
  },
  {
   "cell_type": "markdown",
   "metadata": {},
   "source": [
    "## 3. Prediction \n",
    "\n",
    "Prediction of the first cell"
   ]
  },
  {
   "cell_type": "code",
   "execution_count": null,
   "metadata": {},
   "outputs": [],
   "source": [
    "modelname = \"pretrainmodel/Biogen/Org_domain_075B.obj\"\n",
    "filehandler = open(modelname, 'rb') \n",
    "CeLERymodel = pickle.load(filehandler)\n",
    "\n",
    "\n",
    "pred_cord = cel.Predict_domain(data_test = Qdata[0], class_num = 8, path = \"../output/Biogene/models\", filename = \"Org_domain_075B\", predtype = \"probability\")\n"
   ]
  },
  {
   "cell_type": "markdown",
   "metadata": {},
   "source": [
    "Prediction of the entire scRNA-seq data and report the proportion of the cells on different domains."
   ]
  },
  {
   "cell_type": "code",
   "execution_count": null,
   "metadata": {},
   "outputs": [],
   "source": [
    "pred_cord = cel.Predict_domain(data_test = Qdata, class_num = 8, path = \"../output/Biogene/models\", filename = \"Org_domain_075B\", predtype = \"probability\")"
   ]
  }
 ],
 "metadata": {
  "kernelspec": {
   "display_name": "Python 3",
   "language": "python",
   "name": "python3"
  },
  "language_info": {
   "codemirror_mode": {
    "name": "ipython",
    "version": 3
   },
   "file_extension": ".py",
   "mimetype": "text/x-python",
   "name": "python",
   "nbconvert_exporter": "python",
   "pygments_lexer": "ipython3",
   "version": "3.8.8"
  }
 },
 "nbformat": 4,
 "nbformat_minor": 2
}
